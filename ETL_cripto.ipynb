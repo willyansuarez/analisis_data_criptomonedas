{
 "cells": [
  {
   "cell_type": "markdown",
   "metadata": {},
   "source": [
    "# Proyecto de Data Analitycs Para Soy Henry\n",
    "Segundo proyecto individual para el BootCamp de Soy Henry, en este notebook se traen los  \n",
    "datos de la api, se establecen los dataframe y se exportan para su posterior análisis, el sitio  \n",
    "web para la extracción de los datos es **https://www.coingecko.com/es/api/documentation**"
   ]
  },
  {
   "cell_type": "markdown",
   "metadata": {},
   "source": [
    "### Extracción y transformación de datos de la API"
   ]
  },
  {
   "cell_type": "markdown",
   "metadata": {},
   "source": [
    "### Importar librerías a utilizar"
   ]
  },
  {
   "cell_type": "code",
   "execution_count": 1,
   "metadata": {
    "tags": []
   },
   "outputs": [],
   "source": [
    "# importar librerías\n",
    "from pycoingecko import CoinGeckoAPI\n",
    "import pandas as pd\n",
    "import datetime"
   ]
  },
  {
   "cell_type": "markdown",
   "metadata": {},
   "source": [
    "### Instanciamos la clase\n",
    "Se hace una instancia de la clase de la librería CoinGeckoAPI para acceder a los  \n",
    "métodos que traerán los datos de la api"
   ]
  },
  {
   "cell_type": "code",
   "execution_count": 2,
   "metadata": {
    "tags": []
   },
   "outputs": [],
   "source": [
    "# crear instancia  de la clase para la obtención de datos de la api de coingecko\n",
    "cg = CoinGeckoAPI()"
   ]
  },
  {
   "cell_type": "markdown",
   "metadata": {},
   "source": [
    "### Métodos para obtener los datos  \n",
    "Con estos métodos traemos los datos de la api y se guardan en variables para convertirlos  \n",
    "en dataframes, algunos de estos métodos requieren parámetros los cuales se obtuvieron de  \n",
    "la pagina sugerida."
   ]
  },
  {
   "cell_type": "code",
   "execution_count": 3,
   "metadata": {
    "tags": []
   },
   "outputs": [],
   "source": [
    "# traer los datos globales\n",
    "datos_globales = cg.get_global()\n",
    "\n",
    "# traer los datos globales de las 10 primeras criptomonedas\n",
    "firts_ten_cripto_price = cg.get_price(ids=['Bitcoin','Ethereum'',Tether','binancecoin','ripple','usd-coin','staked-ether', 'Cardano','Dogecoin','Solana'], vs_currencies='usd, eur', include_market_cap=True, include_24hr_vol=True, include_24hr_change=True, include_last_updated_at=True)\n",
    "\n",
    "# traer data hitórica de bitcoin de aproxiadamente 3 años\n",
    "bitcoin_hist = cg.get_coin_market_chart_range_by_id(id='bitcoin', vs_currency='usd', from_timestamp='1596240000', to_timestamp='1690847999')\n",
    "\n",
    "# traer data hitórica de ethereum de aproxiadamente 3 años\n",
    "ethereum_hist = cg.get_coin_market_chart_range_by_id(id='ethereum', vs_currency='usd', from_timestamp='1596240000', to_timestamp='1690847999')\n",
    "\n",
    "# traer data hitórica de theter de aproxiadamente 3 años\n",
    "tether_hist = cg.get_coin_market_chart_range_by_id(id='tether', vs_currency='usd', from_timestamp='1596240000', to_timestamp='1690847999')\n",
    "\n",
    "# traer data hitórica de binance de aproxiadamente 3 años from=1596240000, to=1690847999 \n",
    "binance_hist = cg.get_coin_market_chart_range_by_id(id='binancecoin', vs_currency='usd', from_timestamp='1596240000', to_timestamp='1690847999')\n",
    "\n",
    "# traer ohlc - 1.1 (open), 2.2 (high), 3.3 (low), 4.4 (close) con 180 días de histórico\n",
    "ohlc_btc = cg.get_coin_ohlc_by_id(id=\"bitcoin\", vs_currency=\"usd\",  days=180)\n",
    "ohlc_ethereum = cg.get_coin_ohlc_by_id(id=\"ethereum\", vs_currency=\"usd\",  days=180)\n",
    "ohlc_tether = cg.get_coin_ohlc_by_id(id=\"tether\", vs_currency=\"usd\",  days=180)\n",
    "ohlc_binance = cg.get_coin_ohlc_by_id(id=\"binancecoin\", vs_currency=\"usd\",  days=180)"
   ]
  },
  {
   "cell_type": "markdown",
   "metadata": {},
   "source": [
    "### Vista previa\n",
    "En este paso verificamos los dataframe construidos y su longitud"
   ]
  },
  {
   "cell_type": "code",
   "execution_count": null,
   "metadata": {
    "tags": []
   },
   "outputs": [],
   "source": [
    "# ver los datos y su longitud\n",
    "# print(datos_globales)\n",
    "# len(datos_globales)\n",
    "\n",
    "# print(firts_ten_cripto_price)\n",
    "# len(firts_ten_cripto_price)\n",
    "\n",
    "# print(bitcoin_hist)\n",
    "# len(bitcoin_hist)\n",
    "# len(bitcoin_hist[\"prices\"])\n",
    "\n",
    "# print(ethereum_hist)\n",
    "# len(ethereum_hist)\n",
    "# len(ethereum_hist[\"prices\"])\n",
    "\n",
    "# print(tether_hist)\n",
    "# len(tether_hist)\n",
    "# len(tether_hist[\"prices\"])\n",
    "\n",
    "# print(binance_hist)\n",
    "# len(binance_hist)\n",
    "# len(binance_hist[\"prices\"])\n",
    "\n",
    "# print(ohlc_btc)\n",
    "# len(ohlc_btc)\n",
    "# len(ohlc_btc[0])\n",
    "\n",
    "# print(ohlc_ethereum)\n",
    "# len(ohlc_ethereum)\n",
    "# len(ohlc_ethereum[0])\n",
    "\n",
    "# print(ohlc_tether)\n",
    "# len(ohlc_tether)\n",
    "# len(ohlc_tether[0])\n",
    "\n",
    "# print(ohlc_binance)\n",
    "# len(ohlc_binance)\n",
    "# len(ohlc_binance[0])"
   ]
  },
  {
   "cell_type": "markdown",
   "metadata": {},
   "source": [
    "### Construir los datasets  \n",
    " En este paso establecemos los datasets con los datos traídos de la api"
   ]
  },
  {
   "cell_type": "code",
   "execution_count": 25,
   "metadata": {
    "tags": []
   },
   "outputs": [],
   "source": [
    "# Construir los dataframe\n",
    "df_datos_globales = pd.DataFrame(datos_globales)\n",
    "\n",
    "df_precio_10_monedas = pd.DataFrame(firts_ten_cripto_price)"
   ]
  },
  {
   "cell_type": "markdown",
   "metadata": {},
   "source": [
    "### Histórico  \n",
    "El dataframe con el histórico se construye aparte por requerir pasos adicionales"
   ]
  },
  {
   "cell_type": "code",
   "execution_count": 5,
   "metadata": {},
   "outputs": [],
   "source": [
    "# Construir el dataframe de la data histórica del btc, ethereum, theter, binance\n",
    "# Creamos una lista vacía para almacenar las fechas\n",
    "dates = []\n",
    "\n",
    "# Creamos unas listas vacías para almacenar los precios\n",
    "prices_btc = []\n",
    "prices_ethereum = []\n",
    "prices_tether = []\n",
    "prices_binance = []\n",
    "\n",
    "# Creamos unas listas vacías para almacenar las capitalizaciones de mercado\n",
    "market_caps_btc = []\n",
    "market_caps_ethereum = []\n",
    "market_caps_tether = []\n",
    "market_caps_binance = []\n",
    "\n",
    "# Creamos unas listas vacías para almacenar los volúmenes totales\n",
    "total_volumes_btc = []\n",
    "total_volumes_ethereum = []\n",
    "total_volumes_tether = []\n",
    "total_volumes_binance = []\n",
    "\n",
    "# Iteramos sobre los diccionarios y extraemos los datos que nos interesan\n",
    "# for sublist in bitcoin_hist[\"prices\"]:\n",
    "#   # Extraemos el timestamp y lo agregamos a la lista de fechas\n",
    "#   dates.append(sublist[0])\n",
    "\n",
    "# solo a esta le extraemos la fecha\n",
    "for sublist in bitcoin_hist[\"prices\"]:\n",
    "  # print(sublist[0])\n",
    "  # dates.append(sublist[0])\n",
    "    unix_timestamp = sublist[0]\n",
    "    unix_timestamp = unix_timestamp / 1000\n",
    "    datetime_object = datetime.datetime.fromtimestamp(unix_timestamp)\n",
    "    date_only = datetime_object.date()\n",
    "    dates.append(date_only)\n",
    "  \n",
    "  # Extraemos el precio y lo agregamos a la lista de precios\n",
    "    prices_btc.append(sublist[1])\n",
    "\n",
    "for sublist in bitcoin_hist[\"market_caps\"]:\n",
    "  # Extraemos la capitalización de mercado y la agregamos a la lista de capitalizaciones de mercado\n",
    "    market_caps_btc.append(sublist[1])\n",
    "\n",
    "for sublist in bitcoin_hist[\"total_volumes\"]:\n",
    "  # Extraemos el volumen total y lo agregamos a la lista de volúmenes totales\n",
    "    total_volumes_btc.append(sublist[1])\n",
    "\n",
    "# ethereum\n",
    "for sublist in ethereum_hist[\"prices\"]:\n",
    "  # Extraemos el precio y lo agregamos a la lista de precios\n",
    "    prices_ethereum.append(sublist[1])\n",
    "\n",
    "for sublist in ethereum_hist[\"market_caps\"]:\n",
    "  # Extraemos la capitalización de mercado y la agregamos a la lista de capitalizaciones de mercado\n",
    "    market_caps_ethereum.append(sublist[1])\n",
    "\n",
    "for sublist in ethereum_hist[\"total_volumes\"]:\n",
    "  # Extraemos el volumen total y lo agregamos a la lista de volúmenes totales\n",
    "    total_volumes_ethereum.append(sublist[1])\n",
    "\n",
    "# tether\n",
    "for sublist in tether_hist[\"prices\"]:\n",
    "  # Extraemos el precio y lo agregamos a la lista de precios\n",
    "    prices_tether.append(sublist[1])\n",
    "\n",
    "for sublist in tether_hist[\"market_caps\"]:\n",
    "  # Extraemos la capitalización de mercado y la agregamos a la lista de capitalizaciones de mercado\n",
    "    market_caps_tether.append(sublist[1])\n",
    "\n",
    "for sublist in tether_hist[\"total_volumes\"]:\n",
    "  # Extraemos el volumen total y lo agregamos a la lista de volúmenes totales\n",
    "    total_volumes_tether.append(sublist[1])\n",
    "    \n",
    "# binance\n",
    "for sublist in binance_hist[\"prices\"]:\n",
    "  # Extraemos el precio y lo agregamos a la lista de precios\n",
    "    prices_binance.append(sublist[1])\n",
    "    \n",
    "for sublist in binance_hist[\"market_caps\"]:\n",
    "  # Extraemos la capitalización de mercado y la agregamos a la lista de capitalizaciones de mercado\n",
    "    market_caps_binance.append(sublist[1])\n",
    "\n",
    "for sublist in binance_hist[\"total_volumes\"]:\n",
    "  # Extraemos el volumen total y lo agregamos a la lista de volúmenes totales\n",
    "    total_volumes_binance.append(sublist[1])\n",
    "\n",
    "# Creamos un dataframe con las listas que hemos creado\n",
    "df_historico_primeras4_monedas = pd.DataFrame({\"fecha\": dates, \"precio_btc\": prices_btc, \"mercado_cap_btc\": market_caps_btc, \"total_volumen_btc\": total_volumes_btc, \"precio_ethereum\": prices_ethereum, \"mercado_cap_ethereum\": market_caps_ethereum, \"total_volumen_ethereum\": total_volumes_ethereum, \"precio_tether\": prices_tether, \"mercado_cap_tether\": market_caps_tether, \" total_volumen_tether\": total_volumes_tether, \"precio_binance\": prices_binance, \"mercado_caps_binance\": market_caps_binance, \"total_volumen_binance\": total_volumes_binance})"
   ]
  },
  {
   "cell_type": "markdown",
   "metadata": {},
   "source": [
    "### OHLC"
   ]
  },
  {
   "cell_type": "code",
   "execution_count": 6,
   "metadata": {
    "tags": []
   },
   "outputs": [],
   "source": [
    "# Construir el dataframe de ohlc del btc, ethereum, theter, binance\n",
    "# Abreviatura de “Open, High, Low, Close” (precios de Apertura, Máximo, Mínimo, Cierre).\n",
    "# Iterar sobre cada sublista en la lista ohlc_btc\n",
    "datos = []\n",
    "for sublista in ohlc_btc:\n",
    "    # Convertir la fecha de Unix a un objeto de fecha y hora legible por humanos\n",
    "    fecha = sublista[0]\n",
    "    fecha = fecha / 1000\n",
    "    datetime_object = datetime.datetime.fromtimestamp(fecha)\n",
    "    fecha = datetime_object.date()\n",
    "    \n",
    "    # Guardar los datos en un diccionario\n",
    "    datos.append({\n",
    "        'fecha': fecha,\n",
    "        'precio_apertura_btc': sublista[1],\n",
    "        'precio_maximo_btc': sublista[2],\n",
    "        'precio_minimo_btc': sublista[3],\n",
    "        'precio_cierre_btc': sublista[4]\n",
    "    })\n",
    "\n",
    "# Crear un DataFrame con las columnas deseadas\n",
    "df_olhc_btc = pd.DataFrame(datos, columns=['fecha', 'precio_apertura_btc', 'precio_maximo_btc', 'precio_minimo_btc', 'precio_cierre_btc'])"
   ]
  },
  {
   "cell_type": "code",
   "execution_count": 7,
   "metadata": {
    "tags": []
   },
   "outputs": [],
   "source": [
    "# Construir el dataframe de ohlc del btc, ethereum, theter, binance\n",
    "# Abreviatura de “Open, High, Low, Close” (precios de Apertura, Máximo, Mínimo, Cierre).\n",
    "# Iterar sobre cada sublista en la lista ohlc_btc\n",
    "datos = []\n",
    "for sublista in ohlc_ethereum:\n",
    "    # Convertir la fecha de Unix a un objeto de fecha y hora legible por humanos\n",
    "    fecha = sublista[0]\n",
    "    fecha = fecha / 1000\n",
    "    datetime_object = datetime.datetime.fromtimestamp(fecha)\n",
    "    fecha = datetime_object.date()\n",
    "    \n",
    "    # Guardar los datos en un diccionario\n",
    "    datos.append({\n",
    "        'fecha': fecha,\n",
    "        'precio_apertura_ethereum': sublista[1],\n",
    "        'precio_maximo_ethereum': sublista[2],\n",
    "        'precio_minimo_ethereum': sublista[3],\n",
    "        'precio_cierre_ethereum': sublista[4]\n",
    "    })\n",
    "\n",
    "# Crear un DataFrame con las columnas deseadas\n",
    "df_olhc_ethereum = pd.DataFrame(datos, columns=['fecha', 'precio_apertura_ethereum', 'precio_maximo_ethereum', 'precio_minimo_ethereum', 'precio_cierre_ethereum'])"
   ]
  },
  {
   "cell_type": "code",
   "execution_count": 8,
   "metadata": {
    "tags": []
   },
   "outputs": [],
   "source": [
    "# Construir el dataframe de ohlc del btc, ethereum, theter, binance\n",
    "# Abreviatura de “Open, High, Low, Close” (precios de Apertura, Máximo, Mínimo, Cierre).\n",
    "# Iterar sobre cada sublista en la lista ohlc_btc\n",
    "datos = []\n",
    "for sublista in ohlc_tether:\n",
    "    # Convertir la fecha de Unix a un objeto de fecha y hora legible por humanos\n",
    "    fecha = sublista[0]\n",
    "    fecha = fecha / 1000\n",
    "    datetime_object = datetime.datetime.fromtimestamp(fecha)\n",
    "    fecha = datetime_object.date()\n",
    "    \n",
    "    # Guardar los datos en un diccionario\n",
    "    datos.append({\n",
    "        'fecha': fecha,\n",
    "        'precio_apertura_tether': sublista[1],\n",
    "        'precio_maximo_tether': sublista[2],\n",
    "        'precio_minimo_tether': sublista[3],\n",
    "        'precio_cierre_tether': sublista[4]\n",
    "    })\n",
    "\n",
    "# Crear un DataFrame con las columnas deseadas\n",
    "df_olhc_tether = pd.DataFrame(datos, columns=['fecha', 'precio_apertura_tether', 'precio_maximo_tether', 'precio_minimo_tether', 'precio_cierre_tether'])"
   ]
  },
  {
   "cell_type": "code",
   "execution_count": 9,
   "metadata": {
    "tags": []
   },
   "outputs": [],
   "source": [
    "# Construir el dataframe de ohlc del btc, ethereum, theter, binance\n",
    "# Abreviatura de “Open, High, Low, Close” (precios de Apertura, Máximo, Mínimo, Cierre).\n",
    "# Iterar sobre cada sublista en la lista ohlc_btc\n",
    "datos = []\n",
    "for sublista in ohlc_binance:\n",
    "    # Convertir la fecha de Unix a un objeto de fecha y hora legible por humanos\n",
    "    fecha = sublista[0]\n",
    "    fecha = fecha / 1000\n",
    "    datetime_object = datetime.datetime.fromtimestamp(fecha)\n",
    "    fecha = datetime_object.date()\n",
    "    \n",
    "    # Guardar los datos en un diccionario\n",
    "    datos.append({\n",
    "        'fecha': fecha,\n",
    "        'precio_apertura_binance': sublista[1],\n",
    "        'precio_maximo_binance': sublista[2],\n",
    "        'precio_minimo_binance': sublista[3],\n",
    "        'precio_cierre_binance': sublista[4]\n",
    "    })\n",
    "\n",
    "# Crear un DataFrame con las columnas deseadas\n",
    "df_olhc_binance = pd.DataFrame(datos, columns=['fecha', 'precio_apertura_binance', 'precio_maximo_binance', 'precio_minimo_binance', 'precio_cierre_binance'])"
   ]
  },
  {
   "cell_type": "code",
   "execution_count": 10,
   "metadata": {
    "tags": []
   },
   "outputs": [],
   "source": [
    "# reacomodamiento de los datos de este dataframe\n",
    "df_precio_10_monedas =  df_precio_10_monedas.transpose()\n",
    "df_precio_10_monedas = df_precio_10_monedas.reset_index()\n",
    "\n",
    "# agrego un índice numérico\n",
    "df_precio_10_monedas.index = range(1, len(df_precio_10_monedas) + 1)"
   ]
  },
  {
   "cell_type": "markdown",
   "metadata": {},
   "source": [
    "### Vista Preliminar  \n",
    "Visualizamos para comprobar que se hayan construido bien los dataframes"
   ]
  },
  {
   "cell_type": "code",
   "execution_count": 28,
   "metadata": {
    "tags": []
   },
   "outputs": [],
   "source": [
    "# visualizamos los dataframe\n",
    "# df_datos_globales.head(1)\n",
    " \n",
    "# df_precio_10_monedas.head()\n",
    "\n",
    "# df_historico_primeras4_monedas.head(1)\n",
    "\n",
    "# df_olhc_binance\n",
    "\n",
    "# df_olhc_tether\n",
    "\n",
    "# df_olhc_ethereum\n",
    "\n",
    "# df_olhc_btc"
   ]
  },
  {
   "cell_type": "markdown",
   "metadata": {},
   "source": [
    "### Eliminado de columnas innecesarias"
   ]
  },
  {
   "cell_type": "code",
   "execution_count": 29,
   "metadata": {
    "tags": []
   },
   "outputs": [],
   "source": [
    "df_datos_globales = df_datos_globales.drop(['upcoming_icos', 'total_market_cap', 'total_volume', 'market_cap_percentage', 'market_cap_change_percentage_24h_usd'], axis=1)"
   ]
  },
  {
   "cell_type": "code",
   "execution_count": 22,
   "metadata": {
    "tags": []
   },
   "outputs": [],
   "source": [
    "df_precio_10_monedas = df_precio_10_monedas.rename(columns={'index': 'nombre', 'usd': 'dolar', 'usd_market_cap': 'dolar_mercado_cap', 'usd_24h_vol': 'dolar_24h_vol', 'usd_24h_change': 'dolar_24h_cambio', 'eur': 'euro', 'eur_market_cap': 'euro_mercado_cap', 'eur_24h_vol': 'euro_24h_vol', 'eur_24h_change': 'euro_24h_cambio', 'last_updated_at': 'ultima_actualizacion'})"
   ]
  },
  {
   "cell_type": "markdown",
   "metadata": {},
   "source": [
    "### Renombrar columnas a español"
   ]
  },
  {
   "cell_type": "code",
   "execution_count": 30,
   "metadata": {
    "tags": []
   },
   "outputs": [],
   "source": [
    "df_datos_globales = df_datos_globales.rename(columns={'active_cryptocurrencies':'criptomonedas_activas', 'ongoing_icos':'icos_activas', 'ended_icos':'icos_finalizadas', 'markets':'mercados', 'updated_at':'fecha_actualizacion'})\n",
    "\n",
    "df_precio_10_monedas = df_precio_10_monedas.rename(columns={'index': 'nombre', 'usd': 'dolar', 'usd_market_cap': 'dolar_mercado_cap', 'usd_24h_vol': 'dolar_24h_vol', 'usd_24h_change': 'dolar_24h_cambio', 'eur': 'euro', 'eur_market_cap': 'euro_mercado_cap', 'eur_24h_vol': 'euro_24h_vol', 'eur_24h_change': 'euro_24h_cambio', 'last_updated_at': 'ultima_actualizacion'})"
   ]
  },
  {
   "cell_type": "markdown",
   "metadata": {},
   "source": [
    "### Exportar los dataframe  \n",
    "Se exportan los datasets generados para su posterior análisis"
   ]
  },
  {
   "cell_type": "code",
   "execution_count": 33,
   "metadata": {},
   "outputs": [],
   "source": [
    "# crear los csv\n",
    "df_datos_globales.to_csv(\"df_datos_globales.csv\", index=False) \n",
    "df_precio_10_monedas.to_csv(\"df_precio_10_monedas.csv\", index=False)\n",
    "df_historico_primeras4_monedas.to_csv(\"df_historico_primeras4_monedas.csv\", index=False)\n",
    "df_olhc_btc.to_csv(\"df_olhc_btc.csv\", index=False)\n",
    "df_olhc_ethereum.to_csv(\"df_olhc_ethereum.csv\", index=False)\n",
    "df_olhc_tether.to_csv(\"df_olhc_tether.csv\", index=False)\n",
    "df_olhc_binance.to_csv(\"df_olhc_binance.csv\", index=False)"
   ]
  },
  {
   "cell_type": "markdown",
   "metadata": {},
   "source": []
  }
 ],
 "metadata": {
  "kernelspec": {
   "display_name": "Python 3 (ipykernel)",
   "language": "python",
   "name": "python3"
  },
  "language_info": {
   "codemirror_mode": {
    "name": "ipython",
    "version": 3
   },
   "file_extension": ".py",
   "mimetype": "text/x-python",
   "name": "python",
   "nbconvert_exporter": "python",
   "pygments_lexer": "ipython3",
   "version": "3.10.9"
  }
 },
 "nbformat": 4,
 "nbformat_minor": 4
}
