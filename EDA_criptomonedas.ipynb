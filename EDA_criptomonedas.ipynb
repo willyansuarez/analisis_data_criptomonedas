{
 "cells": [
  {
   "cell_type": "markdown",
   "id": "7256bc5c",
   "metadata": {},
   "source": [
    "# Análisis Exploratorio (EDA)  \n",
    "En este notebook se realiza el análisis exploratorio con los datasets generados, para tener una visión  \n",
    "mas amplia sobre las criptomonedas lo que permitirá establecer recomendaciones y conclusiones."
   ]
  },
  {
   "cell_type": "markdown",
   "id": "acf73827",
   "metadata": {},
   "source": [
    "### Importar librerías"
   ]
  },
  {
   "cell_type": "code",
   "execution_count": 1,
   "id": "f80c0890",
   "metadata": {
    "tags": []
   },
   "outputs": [],
   "source": [
    "# importar librerías\n",
    "import pandas as pd\n",
    "import datetime as dt\n",
    "import plotly.express as px\n",
    "import plotly.graph_objects as go"
   ]
  },
  {
   "cell_type": "code",
   "execution_count": 2,
   "id": "05262ca6",
   "metadata": {
    "tags": []
   },
   "outputs": [],
   "source": [
    "# cargar los datasets\n",
    "df_datos_globales = pd.read_csv(\"datasets/df_datos_globales.csv\")\n",
    "df_precio_10_monedas = pd.read_csv(\"datasets/df_precio_10_monedas.csv\")\n",
    "df_historico_primeras4_monedas = pd.read_csv(\"datasets/df_historico_primeras4_monedas.csv\")\n",
    "df_olhc_btc = pd.read_csv(\"datasets/df_olhc_btc.csv\")\n",
    "df_olhc_ethereum = pd.read_csv(\"datasets/df_olhc_ethereum.csv\")\n",
    "df_olhc_tether = pd.read_csv(\"datasets/df_olhc_tether.csv\")\n",
    "df_olhc_binance = pd.read_csv(\"datasets/df_olhc_binance.csv\")\n"
   ]
  },
  {
   "cell_type": "markdown",
   "id": "72dc1259",
   "metadata": {},
   "source": [
    "### Datos Globales"
   ]
  },
  {
   "cell_type": "code",
   "execution_count": 3,
   "id": "966a6c19",
   "metadata": {
    "tags": []
   },
   "outputs": [
    {
     "data": {
      "text/html": [
       "<div><div id=9d7b41d7-080f-419e-8f3a-5757b8513b7a style=\"display:none; background-color:#9D6CFF; color:white; width:200px; height:30px; padding-left:5px; border-radius:4px; flex-direction:row; justify-content:space-around; align-items:center;\" onmouseover=\"this.style.backgroundColor='#BA9BF8'\" onmouseout=\"this.style.backgroundColor='#9D6CFF'\" onclick=\"window.commands?.execute('create-mitosheet-from-dataframe-output');\">See Full Dataframe in Mito</div> <script> if (window.commands?.hasCommand('create-mitosheet-from-dataframe-output')) document.getElementById('9d7b41d7-080f-419e-8f3a-5757b8513b7a').style.display = 'flex' </script> <table border=\"1\" class=\"dataframe\">\n",
       "  <thead>\n",
       "    <tr style=\"text-align: right;\">\n",
       "      <th></th>\n",
       "      <th>criptomonedas_activas</th>\n",
       "      <th>icos_activas</th>\n",
       "      <th>icos_finalizadas</th>\n",
       "      <th>mercados</th>\n",
       "      <th>fecha_actualizacion</th>\n",
       "    </tr>\n",
       "  </thead>\n",
       "  <tbody>\n",
       "    <tr>\n",
       "      <th>0</th>\n",
       "      <td>10191</td>\n",
       "      <td>49</td>\n",
       "      <td>3376</td>\n",
       "      <td>837</td>\n",
       "      <td>1692936192</td>\n",
       "    </tr>\n",
       "  </tbody>\n",
       "</table></div>"
      ],
      "text/plain": [
       "   criptomonedas_activas  icos_activas  icos_finalizadas  mercados  \\\n",
       "0                  10191            49              3376       837   \n",
       "\n",
       "   fecha_actualizacion  \n",
       "0           1692936192  "
      ]
     },
     "execution_count": 3,
     "metadata": {},
     "output_type": "execute_result"
    }
   ],
   "source": [
    "# visualizar primeros registros\n",
    "df_datos_globales.head(1)"
   ]
  },
  {
   "cell_type": "markdown",
   "id": "c3fb01d2",
   "metadata": {},
   "source": [
    "### Ejecutar Métodos para Exploración Preliminar\n",
    "En esta sección se ejecutan métodos para una exploración preliminar, lo cual nos permitirá tener un  \n",
    "conocimiento mas detallado del conjunto de datos.  \n",
    "Para esto creo una función para aplicarla sobre el dataframe para esos métodos mas comunes  \n",
    "que se utilizan para estos preliminares."
   ]
  },
  {
   "cell_type": "code",
   "execution_count": 4,
   "id": "5018f4de",
   "metadata": {
    "tags": []
   },
   "outputs": [],
   "source": [
    "def print_df_info(df):\n",
    "    \n",
    "    print(\"** Info - Información general **\")\n",
    "    print(df.info())\n",
    "\n",
    "    print(\"=======================================================\")\n",
    "\n",
    "    print(\"** Shape **\")\n",
    "    print(f\"Filas: {df.shape[0]} - Columnas: {df.shape[1]}\")\n",
    "\n",
    "    print(\"=======================================================\")\n",
    "\n",
    "    print(\"** Describe - Estadísticas resumidas **\")\n",
    "    print(df.describe().T)\n",
    "\n",
    "    print(\"=======================================================\")\n",
    "\n",
    "    print(\"** NaN - Nulos **\")\n",
    "    print(df.isna().sum())\n",
    "\n",
    "    print(\"=======================================================\")\n",
    "    print(\"** Duplicated - Duplicados **\")\n",
    "    print(df.duplicated().sum())"
   ]
  },
  {
   "cell_type": "code",
   "execution_count": 5,
   "id": "cd0cc13a",
   "metadata": {
    "tags": []
   },
   "outputs": [
    {
     "name": "stdout",
     "output_type": "stream",
     "text": [
      "** Info - Información general **\n",
      "<class 'pandas.core.frame.DataFrame'>\n",
      "RangeIndex: 67 entries, 0 to 66\n",
      "Data columns (total 5 columns):\n",
      " #   Column                 Non-Null Count  Dtype\n",
      "---  ------                 --------------  -----\n",
      " 0   criptomonedas_activas  67 non-null     int64\n",
      " 1   icos_activas           67 non-null     int64\n",
      " 2   icos_finalizadas       67 non-null     int64\n",
      " 3   mercados               67 non-null     int64\n",
      " 4   fecha_actualizacion    67 non-null     int64\n",
      "dtypes: int64(5)\n",
      "memory usage: 2.7 KB\n",
      "None\n",
      "=======================================================\n",
      "** Shape **\n",
      "Filas: 67 - Columnas: 5\n",
      "=======================================================\n",
      "** Describe - Estadísticas resumidas **\n",
      "                       count          mean  std           min           25%  \\\n",
      "criptomonedas_activas   67.0  1.019100e+04  0.0  1.019100e+04  1.019100e+04   \n",
      "icos_activas            67.0  4.900000e+01  0.0  4.900000e+01  4.900000e+01   \n",
      "icos_finalizadas        67.0  3.376000e+03  0.0  3.376000e+03  3.376000e+03   \n",
      "mercados                67.0  8.370000e+02  0.0  8.370000e+02  8.370000e+02   \n",
      "fecha_actualizacion     67.0  1.692936e+09  0.0  1.692936e+09  1.692936e+09   \n",
      "\n",
      "                                50%           75%           max  \n",
      "criptomonedas_activas  1.019100e+04  1.019100e+04  1.019100e+04  \n",
      "icos_activas           4.900000e+01  4.900000e+01  4.900000e+01  \n",
      "icos_finalizadas       3.376000e+03  3.376000e+03  3.376000e+03  \n",
      "mercados               8.370000e+02  8.370000e+02  8.370000e+02  \n",
      "fecha_actualizacion    1.692936e+09  1.692936e+09  1.692936e+09  \n",
      "=======================================================\n",
      "** NaN - Nulos **\n",
      "criptomonedas_activas    0\n",
      "icos_activas             0\n",
      "icos_finalizadas         0\n",
      "mercados                 0\n",
      "fecha_actualizacion      0\n",
      "dtype: int64\n",
      "=======================================================\n",
      "** Duplicated - Duplicados **\n",
      "66\n"
     ]
    }
   ],
   "source": [
    "print_df_info(df_datos_globales)"
   ]
  },
  {
   "cell_type": "code",
   "execution_count": 6,
   "id": "14757c6c",
   "metadata": {
    "tags": []
   },
   "outputs": [
    {
     "data": {
      "text/plain": [
       "'2023-08-25 00:03:12'"
      ]
     },
     "execution_count": 6,
     "metadata": {},
     "output_type": "execute_result"
    }
   ],
   "source": [
    "# función para convertir la fecha\n",
    "fecha = df_datos_globales[\"fecha_actualizacion\"].iloc[0]\n",
    "\n",
    "# Crear una función que convierte un timestamp a una fecha y hora\n",
    "def date_unix_to_date_normal(ts):\n",
    "    date_n = dt.datetime.fromtimestamp(ts)\n",
    "    return date_n.strftime(\"%Y-%m-%d %H:%M:%S\")\n",
    "\n",
    "fecha = date_unix_to_date_normal(fecha)\n",
    "fecha"
   ]
  },
  {
   "cell_type": "markdown",
   "id": "76caba71-f6bd-484d-b9e6-e670e73f638b",
   "metadata": {},
   "source": [
    "### Ver Algunos Datos Relevantes Globales  \n",
    "Como son datos globales, se imprimen cuantas monedas hay activas, número de ofertas iniciales de monedas(ICO) que están en curso en el momento de la consulta, número de ofertas iniciales de monedas que han finalizado su período de recaudación de fondos, número de mercados activos o plataformas donde se pueden comprar y vender criptomonedas, y la fecha de la consulta.\n"
   ]
  },
  {
   "cell_type": "code",
   "execution_count": 7,
   "id": "6531c641",
   "metadata": {
    "tags": []
   },
   "outputs": [
    {
     "name": "stdout",
     "output_type": "stream",
     "text": [
      "Número de criptomonedas activas actualmente: 10191\n",
      "Número de ofertas iniciales de monedas que están en curso: 49\n",
      "número de ofertas iniciales de monedas que han finalizado: 3376\n",
      "Número de mercados o exchanges donde se pueden comprar y vender: 837\n",
      "Datos actualizados a la fecha: 2023-08-25 00:03:12\n"
     ]
    }
   ],
   "source": [
    "cripto_activas = df_datos_globales[\"criptomonedas_activas\"].iloc[0]\n",
    "icos_activos = df_datos_globales[\"icos_activas\"].iloc[0]\n",
    "icos_finalizados = df_datos_globales[\"icos_finalizadas\"].iloc[0]\n",
    "mercados_activos = df_datos_globales[\"mercados\"].iloc[0]\n",
    "\n",
    "print(f\"Número de criptomonedas activas actualmente: {cripto_activas}\")\n",
    "print(f\"Número de ofertas iniciales de monedas que están en curso: {icos_activos}\")\n",
    "print(f\"número de ofertas iniciales de monedas que han finalizado: {icos_finalizados}\")\n",
    "print(f\"Número de mercados o exchanges donde se pueden comprar y vender: {mercados_activos}\")\n",
    "print(f\"Datos actualizados a la fecha: {fecha}\")"
   ]
  },
  {
   "cell_type": "markdown",
   "id": "a663db52",
   "metadata": {},
   "source": [
    "- El número de criptomonedas activas actualmente es de **10191**, lo que significa que hay una gran variedad y diversidad de opciones para los inversores y usuarios de este tipo de activos digitales.  \n",
    "- El número de ofertas iniciales de monedas (ICO) que están en curso es de **49**, lo que indica que hay un interés creciente por parte de los emprendedores y desarrolladores de lanzar nuevos proyectos basados en la tecnología blockchain.   \n",
    "- El número de ofertas iniciales de monedas que han finalizado es de **3,376**, lo que muestra que hay una gran cantidad de proyectos que han logrado completar su fase de recaudación de fondos y pasar a la siguiente etapa de desarrollo o implementación.   \n",
    "- El número de mercados o exchanges donde se pueden comprar y vender criptomonedas es de **837**, lo que refleja que hay una amplia oferta y demanda de este tipo de activos en el mundo.  "
   ]
  },
  {
   "cell_type": "code",
   "execution_count": 8,
   "id": "5de7d229",
   "metadata": {
    "tags": []
   },
   "outputs": [],
   "source": [
    "# ejecutar para liberar memoria\n",
    "del df_datos_globales"
   ]
  },
  {
   "cell_type": "markdown",
   "id": "7c4d0a1a",
   "metadata": {},
   "source": [
    "### Comienzo del datasets df_precio_10_monedas  \n",
    "Este dataset contiene la información de de las 10 primeras monedas según el ranking de CoinGecko"
   ]
  },
  {
   "cell_type": "code",
   "execution_count": 9,
   "id": "f00cdcf8",
   "metadata": {
    "tags": []
   },
   "outputs": [
    {
     "data": {
      "text/html": [
       "<div><div id=805370ad-8645-4fbb-911f-73b83e633ae8 style=\"display:none; background-color:#9D6CFF; color:white; width:200px; height:30px; padding-left:5px; border-radius:4px; flex-direction:row; justify-content:space-around; align-items:center;\" onmouseover=\"this.style.backgroundColor='#BA9BF8'\" onmouseout=\"this.style.backgroundColor='#9D6CFF'\" onclick=\"window.commands?.execute('create-mitosheet-from-dataframe-output');\">See Full Dataframe in Mito</div> <script> if (window.commands?.hasCommand('create-mitosheet-from-dataframe-output')) document.getElementById('805370ad-8645-4fbb-911f-73b83e633ae8').style.display = 'flex' </script> <table border=\"1\" class=\"dataframe\">\n",
       "  <thead>\n",
       "    <tr style=\"text-align: right;\">\n",
       "      <th></th>\n",
       "      <th>nombre</th>\n",
       "      <th>dolar</th>\n",
       "      <th>dolar_mercado_cap</th>\n",
       "      <th>dolar_24h_vol</th>\n",
       "      <th>dolar_24h_cambio</th>\n",
       "      <th>euro</th>\n",
       "      <th>euro_mercado_cap</th>\n",
       "      <th>euro_24h_vol</th>\n",
       "      <th>euro_24h_cambio</th>\n",
       "      <th>ultima_actualizacion</th>\n",
       "    </tr>\n",
       "  </thead>\n",
       "  <tbody>\n",
       "    <tr>\n",
       "      <th>0</th>\n",
       "      <td>binancecoin</td>\n",
       "      <td>216.900000</td>\n",
       "      <td>3.337946e+10</td>\n",
       "      <td>4.052273e+08</td>\n",
       "      <td>-0.171391</td>\n",
       "      <td>201.200000</td>\n",
       "      <td>3.096272e+10</td>\n",
       "      <td>3.758881e+08</td>\n",
       "      <td>0.606150</td>\n",
       "      <td>1.692936e+09</td>\n",
       "    </tr>\n",
       "    <tr>\n",
       "      <th>1</th>\n",
       "      <td>bitcoin</td>\n",
       "      <td>26089.000000</td>\n",
       "      <td>5.079679e+11</td>\n",
       "      <td>1.196168e+10</td>\n",
       "      <td>-1.253395</td>\n",
       "      <td>24200.000000</td>\n",
       "      <td>4.711900e+11</td>\n",
       "      <td>1.109563e+10</td>\n",
       "      <td>-0.484281</td>\n",
       "      <td>1.692936e+09</td>\n",
       "    </tr>\n",
       "    <tr>\n",
       "      <th>2</th>\n",
       "      <td>cardano</td>\n",
       "      <td>0.263153</td>\n",
       "      <td>9.219379e+09</td>\n",
       "      <td>2.090162e+08</td>\n",
       "      <td>-2.051790</td>\n",
       "      <td>0.244100</td>\n",
       "      <td>8.551877e+09</td>\n",
       "      <td>1.938830e+08</td>\n",
       "      <td>-1.288895</td>\n",
       "      <td>1.692936e+09</td>\n",
       "    </tr>\n",
       "    <tr>\n",
       "      <th>3</th>\n",
       "      <td>dogecoin</td>\n",
       "      <td>0.062408</td>\n",
       "      <td>8.782669e+09</td>\n",
       "      <td>2.363949e+08</td>\n",
       "      <td>-2.283106</td>\n",
       "      <td>0.057889</td>\n",
       "      <td>8.146786e+09</td>\n",
       "      <td>2.192794e+08</td>\n",
       "      <td>-1.522012</td>\n",
       "      <td>1.692936e+09</td>\n",
       "    </tr>\n",
       "    <tr>\n",
       "      <th>4</th>\n",
       "      <td>ethereum</td>\n",
       "      <td>1654.690000</td>\n",
       "      <td>1.989600e+11</td>\n",
       "      <td>6.979658e+09</td>\n",
       "      <td>-1.220841</td>\n",
       "      <td>1534.880000</td>\n",
       "      <td>1.845549e+11</td>\n",
       "      <td>6.474317e+09</td>\n",
       "      <td>-0.451474</td>\n",
       "      <td>1.692936e+09</td>\n",
       "    </tr>\n",
       "  </tbody>\n",
       "</table></div>"
      ],
      "text/plain": [
       "        nombre         dolar  dolar_mercado_cap  dolar_24h_vol  \\\n",
       "0  binancecoin    216.900000       3.337946e+10   4.052273e+08   \n",
       "1      bitcoin  26089.000000       5.079679e+11   1.196168e+10   \n",
       "2      cardano      0.263153       9.219379e+09   2.090162e+08   \n",
       "3     dogecoin      0.062408       8.782669e+09   2.363949e+08   \n",
       "4     ethereum   1654.690000       1.989600e+11   6.979658e+09   \n",
       "\n",
       "   dolar_24h_cambio          euro  euro_mercado_cap  euro_24h_vol  \\\n",
       "0         -0.171391    201.200000      3.096272e+10  3.758881e+08   \n",
       "1         -1.253395  24200.000000      4.711900e+11  1.109563e+10   \n",
       "2         -2.051790      0.244100      8.551877e+09  1.938830e+08   \n",
       "3         -2.283106      0.057889      8.146786e+09  2.192794e+08   \n",
       "4         -1.220841   1534.880000      1.845549e+11  6.474317e+09   \n",
       "\n",
       "   euro_24h_cambio  ultima_actualizacion  \n",
       "0         0.606150          1.692936e+09  \n",
       "1        -0.484281          1.692936e+09  \n",
       "2        -1.288895          1.692936e+09  \n",
       "3        -1.522012          1.692936e+09  \n",
       "4        -0.451474          1.692936e+09  "
      ]
     },
     "execution_count": 9,
     "metadata": {},
     "output_type": "execute_result"
    }
   ],
   "source": [
    "# Visualizar primeros datos\n",
    "df_precio_10_monedas.head()"
   ]
  },
  {
   "cell_type": "code",
   "execution_count": 10,
   "id": "d7ee7c30",
   "metadata": {
    "tags": []
   },
   "outputs": [
    {
     "name": "stdout",
     "output_type": "stream",
     "text": [
      "** Info - Información general **\n",
      "<class 'pandas.core.frame.DataFrame'>\n",
      "RangeIndex: 10 entries, 0 to 9\n",
      "Data columns (total 10 columns):\n",
      " #   Column                Non-Null Count  Dtype  \n",
      "---  ------                --------------  -----  \n",
      " 0   nombre                10 non-null     object \n",
      " 1   dolar                 10 non-null     float64\n",
      " 2   dolar_mercado_cap     10 non-null     float64\n",
      " 3   dolar_24h_vol         10 non-null     float64\n",
      " 4   dolar_24h_cambio      10 non-null     float64\n",
      " 5   euro                  10 non-null     float64\n",
      " 6   euro_mercado_cap      10 non-null     float64\n",
      " 7   euro_24h_vol          10 non-null     float64\n",
      " 8   euro_24h_cambio       10 non-null     float64\n",
      " 9   ultima_actualizacion  10 non-null     float64\n",
      "dtypes: float64(9), object(1)\n",
      "memory usage: 928.0+ bytes\n",
      "None\n",
      "=======================================================\n",
      "** Shape **\n",
      "Filas: 10 - Columnas: 10\n",
      "=======================================================\n",
      "** Describe - Estadísticas resumidas **\n",
      "                      count          mean           std           min  \\\n",
      "dolar                  10.0  2.963852e+03  8.153487e+03  6.240800e-02   \n",
      "dolar_mercado_cap      10.0  9.166940e+10  1.575521e+11  8.452559e+09   \n",
      "dolar_24h_vol          10.0  3.508398e+09  4.607247e+09  9.117709e+06   \n",
      "dolar_24h_cambio       10.0 -1.494069e+00  1.435828e+00 -4.766905e+00   \n",
      "euro                   10.0  2.749253e+03  7.563125e+03  5.788900e-02   \n",
      "euro_mercado_cap       10.0  8.503171e+10  1.461451e+11  7.840577e+09   \n",
      "euro_24h_vol           10.0  3.254303e+09  4.273540e+09  8.457569e+06   \n",
      "euro_24h_cambio        10.0 -7.265829e-01  1.447304e+00 -4.025158e+00   \n",
      "ultima_actualizacion   10.0  1.692936e+09  7.967720e+01  1.692936e+09   \n",
      "\n",
      "                               25%           50%           75%           max  \n",
      "dolar                 6.380000e-01  1.085996e+01  1.295003e+03  2.608900e+04  \n",
      "dolar_mercado_cap     1.037620e+10  2.662346e+10  7.047375e+10  5.079679e+11  \n",
      "dolar_24h_vol         2.604985e+08  5.987965e+08  6.192270e+09  1.196168e+10  \n",
      "dolar_24h_cambio     -2.055328e+00 -1.237118e+00 -4.253656e-01  3.165313e-02  \n",
      "euro                  5.917880e-01  1.007377e+01  1.201242e+03  2.420000e+04  \n",
      "euro_mercado_cap      9.624939e+09  2.469587e+10  6.536647e+10  4.711900e+11  \n",
      "euro_24h_vol          2.416379e+08  5.554425e+08  5.743938e+09  1.109563e+10  \n",
      "euro_24h_cambio      -1.292461e+00 -4.678773e-01  3.501973e-01  8.132515e-01  \n",
      "ultima_actualizacion  1.692936e+09  1.692936e+09  1.692936e+09  1.692936e+09  \n",
      "=======================================================\n",
      "** NaN - Nulos **\n",
      "nombre                  0\n",
      "dolar                   0\n",
      "dolar_mercado_cap       0\n",
      "dolar_24h_vol           0\n",
      "dolar_24h_cambio        0\n",
      "euro                    0\n",
      "euro_mercado_cap        0\n",
      "euro_24h_vol            0\n",
      "euro_24h_cambio         0\n",
      "ultima_actualizacion    0\n",
      "dtype: int64\n",
      "=======================================================\n",
      "** Duplicated - Duplicados **\n",
      "0\n"
     ]
    }
   ],
   "source": [
    "# ejecuto la función para obtener información del dataframe\n",
    "print_df_info(df_precio_10_monedas)"
   ]
  },
  {
   "cell_type": "code",
   "execution_count": 11,
   "id": "21679794",
   "metadata": {
    "tags": []
   },
   "outputs": [
    {
     "data": {
      "text/plain": [
       "'2023-08-25 00:04:17'"
      ]
     },
     "execution_count": 11,
     "metadata": {},
     "output_type": "execute_result"
    }
   ],
   "source": [
    "# convertir la fecha\n",
    "fecha_2 = date_unix_to_date_normal(df_precio_10_monedas[\"ultima_actualizacion\"].iloc[0])\n",
    "fecha_2"
   ]
  },
  {
   "cell_type": "code",
   "execution_count": 12,
   "id": "1242768a-3a93-402a-b6bc-223492436946",
   "metadata": {
    "tags": []
   },
   "outputs": [
    {
     "data": {
      "text/html": [
       "<iframe\n",
       "    scrolling=\"no\"\n",
       "    width=\"100%\"\n",
       "    height=\"545px\"\n",
       "    src=\"iframe_figures/figure_12.html\"\n",
       "    frameborder=\"0\"\n",
       "    allowfullscreen\n",
       "></iframe>\n"
      ]
     },
     "metadata": {},
     "output_type": "display_data"
    }
   ],
   "source": [
    "# Comparación precio primeras 10 monedas\n",
    "fig = px.bar(df_precio_10_monedas, x='nombre', y=['dolar', 'euro'])\n",
    "fig.update_layout(\n",
    "    title=f'Comparación entre el valor de las 10 primeras criptomonedas en USD y EUR - {fecha_2}', \n",
    "    xaxis = dict(\n",
    "        showgrid=True         \n",
    "    ), \n",
    "    yaxis = dict(\n",
    "        showgrid=True\n",
    "    ),  \n",
    "    barmode='group', \n",
    "    paper_bgcolor='#FFFFFF'\n",
    ")\n",
    "fig.update_yaxes(title_text='Precio')\n",
    "fig.show(renderer=\"iframe\")"
   ]
  },
  {
   "cell_type": "markdown",
   "id": "554f2330",
   "metadata": {},
   "source": [
    "**USD y EUR.** \n",
    "Muestra el valor de las 10 primeras criptomonedas según el ranking de coingecko, en dólares estadounidenses y euros en un período de 24 horas."
   ]
  },
  {
   "cell_type": "code",
   "execution_count": 13,
   "id": "3ddbd456",
   "metadata": {
    "tags": []
   },
   "outputs": [
    {
     "data": {
      "text/html": [
       "<iframe\n",
       "    scrolling=\"no\"\n",
       "    width=\"100%\"\n",
       "    height=\"545px\"\n",
       "    src=\"iframe_figures/figure_13.html\"\n",
       "    frameborder=\"0\"\n",
       "    allowfullscreen\n",
       "></iframe>\n"
      ]
     },
     "metadata": {},
     "output_type": "display_data"
    }
   ],
   "source": [
    "# Comparación Capitalización de Mercado 10 primeras monedas - USD y Euro\n",
    "fig = px.bar(df_precio_10_monedas, x='nombre', y=['dolar_mercado_cap', 'euro_mercado_cap'])\n",
    "fig.update_layout(\n",
    "    title=f'Comparación Cap. Mercado(USD) - Cap. Mercado(EUR) - {fecha_2}', \n",
    "    xaxis = dict(\n",
    "        showgrid=True, \n",
    "    ), \n",
    "    yaxis = dict(\n",
    "        showgrid=True\n",
    "    ),     \n",
    "    barmode='group', \n",
    "    paper_bgcolor='#FFFFFF'\n",
    ")\n",
    "fig.update_yaxes(title_text='Monto')\n",
    "fig.show(renderer=\"iframe\")"
   ]
  },
  {
   "cell_type": "markdown",
   "id": "2b7a172e",
   "metadata": {},
   "source": [
    "- El valor de mercado de las criptomonedas en dólares y euros es muy similar, lo que indica que el tipo de cambio entre ambas monedas es muy estable."
   ]
  },
  {
   "cell_type": "code",
   "execution_count": 14,
   "id": "fdd7f646",
   "metadata": {
    "tags": []
   },
   "outputs": [
    {
     "data": {
      "text/html": [
       "<iframe\n",
       "    scrolling=\"no\"\n",
       "    width=\"100%\"\n",
       "    height=\"545px\"\n",
       "    src=\"iframe_figures/figure_14.html\"\n",
       "    frameborder=\"0\"\n",
       "    allowfullscreen\n",
       "></iframe>\n"
      ]
     },
     "metadata": {},
     "output_type": "display_data"
    }
   ],
   "source": [
    "# Volúmen de transacciones en 24 Horas de las 10 Primeras Criptomonedas\n",
    "fig = px.bar(df_precio_10_monedas, x='nombre', y=['dolar_24h_vol', 'euro_24h_vol'])\n",
    "fig.update_layout(\n",
    "    title=f'Volúmen de transacciones en 24 Horas - 10 Primeras Criptomonedas - {fecha_2}', \n",
    "    xaxis = dict(\n",
    "        showgrid=True        \n",
    "    ), \n",
    "    yaxis = dict(\n",
    "        showgrid=True\n",
    "    ),  \n",
    "    barmode='group', \n",
    "    paper_bgcolor='#FFFFFF'\n",
    ")\n",
    "fig.update_yaxes(title_text='Monto')\n",
    "fig.show(renderer=\"iframe\")"
   ]
  },
  {
   "cell_type": "markdown",
   "id": "a9108475",
   "metadata": {},
   "source": [
    "- El volumen de las criptomonedas en dólares y euros es muy similar, lo que indica que hay una alta correlación entre ambos mercados."
   ]
  },
  {
   "cell_type": "code",
   "execution_count": 15,
   "id": "1bebaa97",
   "metadata": {
    "tags": []
   },
   "outputs": [
    {
     "data": {
      "text/html": [
       "<iframe\n",
       "    scrolling=\"no\"\n",
       "    width=\"100%\"\n",
       "    height=\"545px\"\n",
       "    src=\"iframe_figures/figure_15.html\"\n",
       "    frameborder=\"0\"\n",
       "    allowfullscreen\n",
       "></iframe>\n"
      ]
     },
     "metadata": {},
     "output_type": "display_data"
    }
   ],
   "source": [
    "# Variación Porcentual de las 10 Primeras Criptomonedas en las últimas 24 horas\n",
    "fig = px.bar(df_precio_10_monedas, x='nombre', y=['dolar_24h_cambio', 'euro_24h_cambio'])\n",
    "fig.update_layout(\n",
    "    title=f'Variación Porcentual en 24 horas- 10 Primeras Criptomonedas - {fecha_2}', \n",
    "    xaxis = dict(\n",
    "        showgrid=True\n",
    "    ), \n",
    "    yaxis = dict(\n",
    "        showgrid=True\n",
    "    ),  \n",
    "    barmode='group', \n",
    "    paper_bgcolor='#FFFFFF'\n",
    ")\n",
    "fig.update_yaxes(title_text='Monto')\n",
    "fig.show(renderer=\"iframe\")"
   ]
  },
  {
   "cell_type": "markdown",
   "id": "2ca4c471",
   "metadata": {},
   "source": [
    "- El cambio de valor de las criptomonedas en dólares y euros es muy similar, lo que indica que hay una alta correlación entre ambos mercados.\n",
    "- Todas las criptomonedas han tenido una caída de valor en las últimas 24 horas, lo que indica que hay una tendencia bajista o negativa en el mercado de las criptomonedas."
   ]
  },
  {
   "cell_type": "code",
   "execution_count": 17,
   "id": "ed57547c-fae1-41ad-a543-95cef5f53d1d",
   "metadata": {
    "tags": []
   },
   "outputs": [
    {
     "data": {
      "application/vnd.plotly.v1+json": {
       "config": {
        "plotlyServerURL": "https://plot.ly"
       },
       "data": [
        {
         "coloraxis": "coloraxis",
         "hovertemplate": "x: %{x}<br>y: %{y}<br>color: %{z}<extra></extra>",
         "name": "0",
         "texttemplate": "%{z}",
         "type": "heatmap",
         "x": [
          "dolar",
          "dolar_mercado_cap",
          "dolar_24h_vol",
          "dolar_24h_cambio",
          "euro",
          "euro_mercado_cap",
          "euro_24h_vol",
          "euro_24h_cambio"
         ],
         "xaxis": "x",
         "y": [
          "dolar",
          "dolar_mercado_cap",
          "dolar_24h_vol",
          "dolar_24h_cambio",
          "euro",
          "euro_mercado_cap",
          "euro_24h_vol",
          "euro_24h_cambio"
         ],
         "yaxis": "y",
         "z": [
          [
           1,
           0.9423685968007159,
           0.6500062135840919,
           0.07080498253550414,
           0.9999999999999502,
           0.9423701223478882,
           0.6500339735355658,
           0.07072160254945581
          ],
          [
           0.9423685968007159,
           1,
           0.8029315125094545,
           0.16475517509028964,
           0.94236855388656,
           0.9999999999023017,
           0.8029575760228586,
           0.1647112241386988
          ],
          [
           0.6500062135840919,
           0.8029315125094545,
           1,
           0.420554620660184,
           0.6500061102753406,
           0.8029240203640944,
           0.999999998703915,
           0.4207509570016402
          ],
          [
           0.07080498253550414,
           0.16475517509028964,
           0.420554620660184,
           1,
           0.07080505981803684,
           0.16474990967640438,
           0.42054540167341026,
           0.9999998740769275
          ],
          [
           0.9999999999999502,
           0.94236855388656,
           0.6500061102753406,
           0.07080505981803684,
           1,
           0.9423700794345649,
           0.6500338702271101,
           0.07072167978462363
          ],
          [
           0.9423701223478882,
           0.9999999999023017,
           0.8029240203640944,
           0.16474990967640438,
           0.9423700794345649,
           1,
           0.8029500844783233,
           0.16470595222862416
          ],
          [
           0.6500339735355658,
           0.8029575760228586,
           0.999999998703915,
           0.42054540167341026,
           0.6500338702271101,
           0.8029500844783233,
           1,
           0.42074171635299623
          ],
          [
           0.07072160254945581,
           0.1647112241386988,
           0.4207509570016402,
           0.9999998740769275,
           0.07072167978462363,
           0.16470595222862416,
           0.42074171635299623,
           1
          ]
         ]
        }
       ],
       "layout": {
        "coloraxis": {
         "colorscale": [
          [
           0,
           "#0d0887"
          ],
          [
           0.1111111111111111,
           "#46039f"
          ],
          [
           0.2222222222222222,
           "#7201a8"
          ],
          [
           0.3333333333333333,
           "#9c179e"
          ],
          [
           0.4444444444444444,
           "#bd3786"
          ],
          [
           0.5555555555555556,
           "#d8576b"
          ],
          [
           0.6666666666666666,
           "#ed7953"
          ],
          [
           0.7777777777777778,
           "#fb9f3a"
          ],
          [
           0.8888888888888888,
           "#fdca26"
          ],
          [
           1,
           "#f0f921"
          ]
         ]
        },
        "height": 700,
        "margin": {
         "t": 60
        },
        "template": {
         "data": {
          "bar": [
           {
            "error_x": {
             "color": "#2a3f5f"
            },
            "error_y": {
             "color": "#2a3f5f"
            },
            "marker": {
             "line": {
              "color": "#E5ECF6",
              "width": 0.5
             },
             "pattern": {
              "fillmode": "overlay",
              "size": 10,
              "solidity": 0.2
             }
            },
            "type": "bar"
           }
          ],
          "barpolar": [
           {
            "marker": {
             "line": {
              "color": "#E5ECF6",
              "width": 0.5
             },
             "pattern": {
              "fillmode": "overlay",
              "size": 10,
              "solidity": 0.2
             }
            },
            "type": "barpolar"
           }
          ],
          "carpet": [
           {
            "aaxis": {
             "endlinecolor": "#2a3f5f",
             "gridcolor": "white",
             "linecolor": "white",
             "minorgridcolor": "white",
             "startlinecolor": "#2a3f5f"
            },
            "baxis": {
             "endlinecolor": "#2a3f5f",
             "gridcolor": "white",
             "linecolor": "white",
             "minorgridcolor": "white",
             "startlinecolor": "#2a3f5f"
            },
            "type": "carpet"
           }
          ],
          "choropleth": [
           {
            "colorbar": {
             "outlinewidth": 0,
             "ticks": ""
            },
            "type": "choropleth"
           }
          ],
          "contour": [
           {
            "colorbar": {
             "outlinewidth": 0,
             "ticks": ""
            },
            "colorscale": [
             [
              0,
              "#0d0887"
             ],
             [
              0.1111111111111111,
              "#46039f"
             ],
             [
              0.2222222222222222,
              "#7201a8"
             ],
             [
              0.3333333333333333,
              "#9c179e"
             ],
             [
              0.4444444444444444,
              "#bd3786"
             ],
             [
              0.5555555555555556,
              "#d8576b"
             ],
             [
              0.6666666666666666,
              "#ed7953"
             ],
             [
              0.7777777777777778,
              "#fb9f3a"
             ],
             [
              0.8888888888888888,
              "#fdca26"
             ],
             [
              1,
              "#f0f921"
             ]
            ],
            "type": "contour"
           }
          ],
          "contourcarpet": [
           {
            "colorbar": {
             "outlinewidth": 0,
             "ticks": ""
            },
            "type": "contourcarpet"
           }
          ],
          "heatmap": [
           {
            "colorbar": {
             "outlinewidth": 0,
             "ticks": ""
            },
            "colorscale": [
             [
              0,
              "#0d0887"
             ],
             [
              0.1111111111111111,
              "#46039f"
             ],
             [
              0.2222222222222222,
              "#7201a8"
             ],
             [
              0.3333333333333333,
              "#9c179e"
             ],
             [
              0.4444444444444444,
              "#bd3786"
             ],
             [
              0.5555555555555556,
              "#d8576b"
             ],
             [
              0.6666666666666666,
              "#ed7953"
             ],
             [
              0.7777777777777778,
              "#fb9f3a"
             ],
             [
              0.8888888888888888,
              "#fdca26"
             ],
             [
              1,
              "#f0f921"
             ]
            ],
            "type": "heatmap"
           }
          ],
          "heatmapgl": [
           {
            "colorbar": {
             "outlinewidth": 0,
             "ticks": ""
            },
            "colorscale": [
             [
              0,
              "#0d0887"
             ],
             [
              0.1111111111111111,
              "#46039f"
             ],
             [
              0.2222222222222222,
              "#7201a8"
             ],
             [
              0.3333333333333333,
              "#9c179e"
             ],
             [
              0.4444444444444444,
              "#bd3786"
             ],
             [
              0.5555555555555556,
              "#d8576b"
             ],
             [
              0.6666666666666666,
              "#ed7953"
             ],
             [
              0.7777777777777778,
              "#fb9f3a"
             ],
             [
              0.8888888888888888,
              "#fdca26"
             ],
             [
              1,
              "#f0f921"
             ]
            ],
            "type": "heatmapgl"
           }
          ],
          "histogram": [
           {
            "marker": {
             "pattern": {
              "fillmode": "overlay",
              "size": 10,
              "solidity": 0.2
             }
            },
            "type": "histogram"
           }
          ],
          "histogram2d": [
           {
            "colorbar": {
             "outlinewidth": 0,
             "ticks": ""
            },
            "colorscale": [
             [
              0,
              "#0d0887"
             ],
             [
              0.1111111111111111,
              "#46039f"
             ],
             [
              0.2222222222222222,
              "#7201a8"
             ],
             [
              0.3333333333333333,
              "#9c179e"
             ],
             [
              0.4444444444444444,
              "#bd3786"
             ],
             [
              0.5555555555555556,
              "#d8576b"
             ],
             [
              0.6666666666666666,
              "#ed7953"
             ],
             [
              0.7777777777777778,
              "#fb9f3a"
             ],
             [
              0.8888888888888888,
              "#fdca26"
             ],
             [
              1,
              "#f0f921"
             ]
            ],
            "type": "histogram2d"
           }
          ],
          "histogram2dcontour": [
           {
            "colorbar": {
             "outlinewidth": 0,
             "ticks": ""
            },
            "colorscale": [
             [
              0,
              "#0d0887"
             ],
             [
              0.1111111111111111,
              "#46039f"
             ],
             [
              0.2222222222222222,
              "#7201a8"
             ],
             [
              0.3333333333333333,
              "#9c179e"
             ],
             [
              0.4444444444444444,
              "#bd3786"
             ],
             [
              0.5555555555555556,
              "#d8576b"
             ],
             [
              0.6666666666666666,
              "#ed7953"
             ],
             [
              0.7777777777777778,
              "#fb9f3a"
             ],
             [
              0.8888888888888888,
              "#fdca26"
             ],
             [
              1,
              "#f0f921"
             ]
            ],
            "type": "histogram2dcontour"
           }
          ],
          "mesh3d": [
           {
            "colorbar": {
             "outlinewidth": 0,
             "ticks": ""
            },
            "type": "mesh3d"
           }
          ],
          "parcoords": [
           {
            "line": {
             "colorbar": {
              "outlinewidth": 0,
              "ticks": ""
             }
            },
            "type": "parcoords"
           }
          ],
          "pie": [
           {
            "automargin": true,
            "type": "pie"
           }
          ],
          "scatter": [
           {
            "fillpattern": {
             "fillmode": "overlay",
             "size": 10,
             "solidity": 0.2
            },
            "type": "scatter"
           }
          ],
          "scatter3d": [
           {
            "line": {
             "colorbar": {
              "outlinewidth": 0,
              "ticks": ""
             }
            },
            "marker": {
             "colorbar": {
              "outlinewidth": 0,
              "ticks": ""
             }
            },
            "type": "scatter3d"
           }
          ],
          "scattercarpet": [
           {
            "marker": {
             "colorbar": {
              "outlinewidth": 0,
              "ticks": ""
             }
            },
            "type": "scattercarpet"
           }
          ],
          "scattergeo": [
           {
            "marker": {
             "colorbar": {
              "outlinewidth": 0,
              "ticks": ""
             }
            },
            "type": "scattergeo"
           }
          ],
          "scattergl": [
           {
            "marker": {
             "colorbar": {
              "outlinewidth": 0,
              "ticks": ""
             }
            },
            "type": "scattergl"
           }
          ],
          "scattermapbox": [
           {
            "marker": {
             "colorbar": {
              "outlinewidth": 0,
              "ticks": ""
             }
            },
            "type": "scattermapbox"
           }
          ],
          "scatterpolar": [
           {
            "marker": {
             "colorbar": {
              "outlinewidth": 0,
              "ticks": ""
             }
            },
            "type": "scatterpolar"
           }
          ],
          "scatterpolargl": [
           {
            "marker": {
             "colorbar": {
              "outlinewidth": 0,
              "ticks": ""
             }
            },
            "type": "scatterpolargl"
           }
          ],
          "scatterternary": [
           {
            "marker": {
             "colorbar": {
              "outlinewidth": 0,
              "ticks": ""
             }
            },
            "type": "scatterternary"
           }
          ],
          "surface": [
           {
            "colorbar": {
             "outlinewidth": 0,
             "ticks": ""
            },
            "colorscale": [
             [
              0,
              "#0d0887"
             ],
             [
              0.1111111111111111,
              "#46039f"
             ],
             [
              0.2222222222222222,
              "#7201a8"
             ],
             [
              0.3333333333333333,
              "#9c179e"
             ],
             [
              0.4444444444444444,
              "#bd3786"
             ],
             [
              0.5555555555555556,
              "#d8576b"
             ],
             [
              0.6666666666666666,
              "#ed7953"
             ],
             [
              0.7777777777777778,
              "#fb9f3a"
             ],
             [
              0.8888888888888888,
              "#fdca26"
             ],
             [
              1,
              "#f0f921"
             ]
            ],
            "type": "surface"
           }
          ],
          "table": [
           {
            "cells": {
             "fill": {
              "color": "#EBF0F8"
             },
             "line": {
              "color": "white"
             }
            },
            "header": {
             "fill": {
              "color": "#C8D4E3"
             },
             "line": {
              "color": "white"
             }
            },
            "type": "table"
           }
          ]
         },
         "layout": {
          "annotationdefaults": {
           "arrowcolor": "#2a3f5f",
           "arrowhead": 0,
           "arrowwidth": 1
          },
          "autotypenumbers": "strict",
          "coloraxis": {
           "colorbar": {
            "outlinewidth": 0,
            "ticks": ""
           }
          },
          "colorscale": {
           "diverging": [
            [
             0,
             "#8e0152"
            ],
            [
             0.1,
             "#c51b7d"
            ],
            [
             0.2,
             "#de77ae"
            ],
            [
             0.3,
             "#f1b6da"
            ],
            [
             0.4,
             "#fde0ef"
            ],
            [
             0.5,
             "#f7f7f7"
            ],
            [
             0.6,
             "#e6f5d0"
            ],
            [
             0.7,
             "#b8e186"
            ],
            [
             0.8,
             "#7fbc41"
            ],
            [
             0.9,
             "#4d9221"
            ],
            [
             1,
             "#276419"
            ]
           ],
           "sequential": [
            [
             0,
             "#0d0887"
            ],
            [
             0.1111111111111111,
             "#46039f"
            ],
            [
             0.2222222222222222,
             "#7201a8"
            ],
            [
             0.3333333333333333,
             "#9c179e"
            ],
            [
             0.4444444444444444,
             "#bd3786"
            ],
            [
             0.5555555555555556,
             "#d8576b"
            ],
            [
             0.6666666666666666,
             "#ed7953"
            ],
            [
             0.7777777777777778,
             "#fb9f3a"
            ],
            [
             0.8888888888888888,
             "#fdca26"
            ],
            [
             1,
             "#f0f921"
            ]
           ],
           "sequentialminus": [
            [
             0,
             "#0d0887"
            ],
            [
             0.1111111111111111,
             "#46039f"
            ],
            [
             0.2222222222222222,
             "#7201a8"
            ],
            [
             0.3333333333333333,
             "#9c179e"
            ],
            [
             0.4444444444444444,
             "#bd3786"
            ],
            [
             0.5555555555555556,
             "#d8576b"
            ],
            [
             0.6666666666666666,
             "#ed7953"
            ],
            [
             0.7777777777777778,
             "#fb9f3a"
            ],
            [
             0.8888888888888888,
             "#fdca26"
            ],
            [
             1,
             "#f0f921"
            ]
           ]
          },
          "colorway": [
           "#636efa",
           "#EF553B",
           "#00cc96",
           "#ab63fa",
           "#FFA15A",
           "#19d3f3",
           "#FF6692",
           "#B6E880",
           "#FF97FF",
           "#FECB52"
          ],
          "font": {
           "color": "#2a3f5f"
          },
          "geo": {
           "bgcolor": "white",
           "lakecolor": "white",
           "landcolor": "#E5ECF6",
           "showlakes": true,
           "showland": true,
           "subunitcolor": "white"
          },
          "hoverlabel": {
           "align": "left"
          },
          "hovermode": "closest",
          "mapbox": {
           "style": "light"
          },
          "paper_bgcolor": "white",
          "plot_bgcolor": "#E5ECF6",
          "polar": {
           "angularaxis": {
            "gridcolor": "white",
            "linecolor": "white",
            "ticks": ""
           },
           "bgcolor": "#E5ECF6",
           "radialaxis": {
            "gridcolor": "white",
            "linecolor": "white",
            "ticks": ""
           }
          },
          "scene": {
           "xaxis": {
            "backgroundcolor": "#E5ECF6",
            "gridcolor": "white",
            "gridwidth": 2,
            "linecolor": "white",
            "showbackground": true,
            "ticks": "",
            "zerolinecolor": "white"
           },
           "yaxis": {
            "backgroundcolor": "#E5ECF6",
            "gridcolor": "white",
            "gridwidth": 2,
            "linecolor": "white",
            "showbackground": true,
            "ticks": "",
            "zerolinecolor": "white"
           },
           "zaxis": {
            "backgroundcolor": "#E5ECF6",
            "gridcolor": "white",
            "gridwidth": 2,
            "linecolor": "white",
            "showbackground": true,
            "ticks": "",
            "zerolinecolor": "white"
           }
          },
          "shapedefaults": {
           "line": {
            "color": "#2a3f5f"
           }
          },
          "ternary": {
           "aaxis": {
            "gridcolor": "white",
            "linecolor": "white",
            "ticks": ""
           },
           "baxis": {
            "gridcolor": "white",
            "linecolor": "white",
            "ticks": ""
           },
           "bgcolor": "#E5ECF6",
           "caxis": {
            "gridcolor": "white",
            "linecolor": "white",
            "ticks": ""
           }
          },
          "title": {
           "x": 0.05
          },
          "xaxis": {
           "automargin": true,
           "gridcolor": "white",
           "linecolor": "white",
           "ticks": "",
           "title": {
            "standoff": 15
           },
           "zerolinecolor": "white",
           "zerolinewidth": 2
          },
          "yaxis": {
           "automargin": true,
           "gridcolor": "white",
           "linecolor": "white",
           "ticks": "",
           "title": {
            "standoff": 15
           },
           "zerolinecolor": "white",
           "zerolinewidth": 2
          }
         }
        },
        "width": 900,
        "xaxis": {
         "anchor": "y",
         "autorange": true,
         "constrain": "domain",
         "domain": [
          0.11740331491712702,
          0.882596685082873
         ],
         "range": [
          -0.5,
          7.5
         ],
         "scaleanchor": "y",
         "type": "category"
        },
        "yaxis": {
         "anchor": "x",
         "autorange": true,
         "constrain": "domain",
         "domain": [
          0,
          1
         ],
         "range": [
          7.5,
          -0.5
         ],
         "type": "category"
        }
       }
      },
      "image/png": "[encoded data removed]",
      "text/html": [
       "<div>                            <div id=\"1f009a09-801c-4011-ba1b-a66bd08ba728\" class=\"plotly-graph-div\" style=\"height:700px; width:900px;\"></div>            <script type=\"text/javascript\">                require([\"plotly\"], function(Plotly) {                    window.PLOTLYENV=window.PLOTLYENV || {};                                    if (document.getElementById(\"1f009a09-801c-4011-ba1b-a66bd08ba728\")) {                    Plotly.newPlot(                        \"1f009a09-801c-4011-ba1b-a66bd08ba728\",                        [{\"coloraxis\":\"coloraxis\",\"name\":\"0\",\"texttemplate\":\"%{z}\",\"x\":[\"dolar\",\"dolar_mercado_cap\",\"dolar_24h_vol\",\"dolar_24h_cambio\",\"euro\",\"euro_mercado_cap\",\"euro_24h_vol\",\"euro_24h_cambio\"],\"y\":[\"dolar\",\"dolar_mercado_cap\",\"dolar_24h_vol\",\"dolar_24h_cambio\",\"euro\",\"euro_mercado_cap\",\"euro_24h_vol\",\"euro_24h_cambio\"],\"z\":[[1.0,0.9423685968007159,0.6500062135840919,0.07080498253550414,0.9999999999999502,0.9423701223478882,0.6500339735355658,0.07072160254945581],[0.9423685968007159,1.0,0.8029315125094545,0.16475517509028964,0.94236855388656,0.9999999999023017,0.8029575760228586,0.1647112241386988],[0.6500062135840919,0.8029315125094545,1.0,0.420554620660184,0.6500061102753406,0.8029240203640944,0.999999998703915,0.4207509570016402],[0.07080498253550414,0.16475517509028964,0.420554620660184,1.0,0.07080505981803684,0.16474990967640438,0.42054540167341026,0.9999998740769275],[0.9999999999999502,0.94236855388656,0.6500061102753406,0.07080505981803684,1.0,0.9423700794345649,0.6500338702271101,0.07072167978462363],[0.9423701223478882,0.9999999999023017,0.8029240203640944,0.16474990967640438,0.9423700794345649,1.0,0.8029500844783233,0.16470595222862416],[0.6500339735355658,0.8029575760228586,0.999999998703915,0.42054540167341026,0.6500338702271101,0.8029500844783233,1.0,0.42074171635299623],[0.07072160254945581,0.1647112241386988,0.4207509570016402,0.9999998740769275,0.07072167978462363,0.16470595222862416,0.42074171635299623,1.0]],\"type\":\"heatmap\",\"xaxis\":\"x\",\"yaxis\":\"y\",\"hovertemplate\":\"x: %{x}\\u003cbr\\u003ey: %{y}\\u003cbr\\u003ecolor: %{z}\\u003cextra\\u003e\\u003c\\u002fextra\\u003e\"}],                        {\"template\":{\"data\":{\"histogram2dcontour\":[{\"type\":\"histogram2dcontour\",\"colorbar\":{\"outlinewidth\":0,\"ticks\":\"\"},\"colorscale\":[[0.0,\"#0d0887\"],[0.1111111111111111,\"#46039f\"],[0.2222222222222222,\"#7201a8\"],[0.3333333333333333,\"#9c179e\"],[0.4444444444444444,\"#bd3786\"],[0.5555555555555556,\"#d8576b\"],[0.6666666666666666,\"#ed7953\"],[0.7777777777777778,\"#fb9f3a\"],[0.8888888888888888,\"#fdca26\"],[1.0,\"#f0f921\"]]}],\"choropleth\":[{\"type\":\"choropleth\",\"colorbar\":{\"outlinewidth\":0,\"ticks\":\"\"}}],\"histogram2d\":[{\"type\":\"histogram2d\",\"colorbar\":{\"outlinewidth\":0,\"ticks\":\"\"},\"colorscale\":[[0.0,\"#0d0887\"],[0.1111111111111111,\"#46039f\"],[0.2222222222222222,\"#7201a8\"],[0.3333333333333333,\"#9c179e\"],[0.4444444444444444,\"#bd3786\"],[0.5555555555555556,\"#d8576b\"],[0.6666666666666666,\"#ed7953\"],[0.7777777777777778,\"#fb9f3a\"],[0.8888888888888888,\"#fdca26\"],[1.0,\"#f0f921\"]]}],\"heatmap\":[{\"type\":\"heatmap\",\"colorbar\":{\"outlinewidth\":0,\"ticks\":\"\"},\"colorscale\":[[0.0,\"#0d0887\"],[0.1111111111111111,\"#46039f\"],[0.2222222222222222,\"#7201a8\"],[0.3333333333333333,\"#9c179e\"],[0.4444444444444444,\"#bd3786\"],[0.5555555555555556,\"#d8576b\"],[0.6666666666666666,\"#ed7953\"],[0.7777777777777778,\"#fb9f3a\"],[0.8888888888888888,\"#fdca26\"],[1.0,\"#f0f921\"]]}],\"heatmapgl\":[{\"type\":\"heatmapgl\",\"colorbar\":{\"outlinewidth\":0,\"ticks\":\"\"},\"colorscale\":[[0.0,\"#0d0887\"],[0.1111111111111111,\"#46039f\"],[0.2222222222222222,\"#7201a8\"],[0.3333333333333333,\"#9c179e\"],[0.4444444444444444,\"#bd3786\"],[0.5555555555555556,\"#d8576b\"],[0.6666666666666666,\"#ed7953\"],[0.7777777777777778,\"#fb9f3a\"],[0.8888888888888888,\"#fdca26\"],[1.0,\"#f0f921\"]]}],\"contourcarpet\":[{\"type\":\"contourcarpet\",\"colorbar\":{\"outlinewidth\":0,\"ticks\":\"\"}}],\"contour\":[{\"type\":\"contour\",\"colorbar\":{\"outlinewidth\":0,\"ticks\":\"\"},\"colorscale\":[[0.0,\"#0d0887\"],[0.1111111111111111,\"#46039f\"],[0.2222222222222222,\"#7201a8\"],[0.3333333333333333,\"#9c179e\"],[0.4444444444444444,\"#bd3786\"],[0.5555555555555556,\"#d8576b\"],[0.6666666666666666,\"#ed7953\"],[0.7777777777777778,\"#fb9f3a\"],[0.8888888888888888,\"#fdca26\"],[1.0,\"#f0f921\"]]}],\"surface\":[{\"type\":\"surface\",\"colorbar\":{\"outlinewidth\":0,\"ticks\":\"\"},\"colorscale\":[[0.0,\"#0d0887\"],[0.1111111111111111,\"#46039f\"],[0.2222222222222222,\"#7201a8\"],[0.3333333333333333,\"#9c179e\"],[0.4444444444444444,\"#bd3786\"],[0.5555555555555556,\"#d8576b\"],[0.6666666666666666,\"#ed7953\"],[0.7777777777777778,\"#fb9f3a\"],[0.8888888888888888,\"#fdca26\"],[1.0,\"#f0f921\"]]}],\"mesh3d\":[{\"type\":\"mesh3d\",\"colorbar\":{\"outlinewidth\":0,\"ticks\":\"\"}}],\"scatter\":[{\"fillpattern\":{\"fillmode\":\"overlay\",\"size\":10,\"solidity\":0.2},\"type\":\"scatter\"}],\"parcoords\":[{\"type\":\"parcoords\",\"line\":{\"colorbar\":{\"outlinewidth\":0,\"ticks\":\"\"}}}],\"scatterpolargl\":[{\"type\":\"scatterpolargl\",\"marker\":{\"colorbar\":{\"outlinewidth\":0,\"ticks\":\"\"}}}],\"bar\":[{\"error_x\":{\"color\":\"#2a3f5f\"},\"error_y\":{\"color\":\"#2a3f5f\"},\"marker\":{\"line\":{\"color\":\"#E5ECF6\",\"width\":0.5},\"pattern\":{\"fillmode\":\"overlay\",\"size\":10,\"solidity\":0.2}},\"type\":\"bar\"}],\"scattergeo\":[{\"type\":\"scattergeo\",\"marker\":{\"colorbar\":{\"outlinewidth\":0,\"ticks\":\"\"}}}],\"scatterpolar\":[{\"type\":\"scatterpolar\",\"marker\":{\"colorbar\":{\"outlinewidth\":0,\"ticks\":\"\"}}}],\"histogram\":[{\"marker\":{\"pattern\":{\"fillmode\":\"overlay\",\"size\":10,\"solidity\":0.2}},\"type\":\"histogram\"}],\"scattergl\":[{\"type\":\"scattergl\",\"marker\":{\"colorbar\":{\"outlinewidth\":0,\"ticks\":\"\"}}}],\"scatter3d\":[{\"type\":\"scatter3d\",\"line\":{\"colorbar\":{\"outlinewidth\":0,\"ticks\":\"\"}},\"marker\":{\"colorbar\":{\"outlinewidth\":0,\"ticks\":\"\"}}}],\"scattermapbox\":[{\"type\":\"scattermapbox\",\"marker\":{\"colorbar\":{\"outlinewidth\":0,\"ticks\":\"\"}}}],\"scatterternary\":[{\"type\":\"scatterternary\",\"marker\":{\"colorbar\":{\"outlinewidth\":0,\"ticks\":\"\"}}}],\"scattercarpet\":[{\"type\":\"scattercarpet\",\"marker\":{\"colorbar\":{\"outlinewidth\":0,\"ticks\":\"\"}}}],\"carpet\":[{\"aaxis\":{\"endlinecolor\":\"#2a3f5f\",\"gridcolor\":\"white\",\"linecolor\":\"white\",\"minorgridcolor\":\"white\",\"startlinecolor\":\"#2a3f5f\"},\"baxis\":{\"endlinecolor\":\"#2a3f5f\",\"gridcolor\":\"white\",\"linecolor\":\"white\",\"minorgridcolor\":\"white\",\"startlinecolor\":\"#2a3f5f\"},\"type\":\"carpet\"}],\"table\":[{\"cells\":{\"fill\":{\"color\":\"#EBF0F8\"},\"line\":{\"color\":\"white\"}},\"header\":{\"fill\":{\"color\":\"#C8D4E3\"},\"line\":{\"color\":\"white\"}},\"type\":\"table\"}],\"barpolar\":[{\"marker\":{\"line\":{\"color\":\"#E5ECF6\",\"width\":0.5},\"pattern\":{\"fillmode\":\"overlay\",\"size\":10,\"solidity\":0.2}},\"type\":\"barpolar\"}],\"pie\":[{\"automargin\":true,\"type\":\"pie\"}]},\"layout\":{\"autotypenumbers\":\"strict\",\"colorway\":[\"#636efa\",\"#EF553B\",\"#00cc96\",\"#ab63fa\",\"#FFA15A\",\"#19d3f3\",\"#FF6692\",\"#B6E880\",\"#FF97FF\",\"#FECB52\"],\"font\":{\"color\":\"#2a3f5f\"},\"hovermode\":\"closest\",\"hoverlabel\":{\"align\":\"left\"},\"paper_bgcolor\":\"white\",\"plot_bgcolor\":\"#E5ECF6\",\"polar\":{\"bgcolor\":\"#E5ECF6\",\"angularaxis\":{\"gridcolor\":\"white\",\"linecolor\":\"white\",\"ticks\":\"\"},\"radialaxis\":{\"gridcolor\":\"white\",\"linecolor\":\"white\",\"ticks\":\"\"}},\"ternary\":{\"bgcolor\":\"#E5ECF6\",\"aaxis\":{\"gridcolor\":\"white\",\"linecolor\":\"white\",\"ticks\":\"\"},\"baxis\":{\"gridcolor\":\"white\",\"linecolor\":\"white\",\"ticks\":\"\"},\"caxis\":{\"gridcolor\":\"white\",\"linecolor\":\"white\",\"ticks\":\"\"}},\"coloraxis\":{\"colorbar\":{\"outlinewidth\":0,\"ticks\":\"\"}},\"colorscale\":{\"sequential\":[[0.0,\"#0d0887\"],[0.1111111111111111,\"#46039f\"],[0.2222222222222222,\"#7201a8\"],[0.3333333333333333,\"#9c179e\"],[0.4444444444444444,\"#bd3786\"],[0.5555555555555556,\"#d8576b\"],[0.6666666666666666,\"#ed7953\"],[0.7777777777777778,\"#fb9f3a\"],[0.8888888888888888,\"#fdca26\"],[1.0,\"#f0f921\"]],\"sequentialminus\":[[0.0,\"#0d0887\"],[0.1111111111111111,\"#46039f\"],[0.2222222222222222,\"#7201a8\"],[0.3333333333333333,\"#9c179e\"],[0.4444444444444444,\"#bd3786\"],[0.5555555555555556,\"#d8576b\"],[0.6666666666666666,\"#ed7953\"],[0.7777777777777778,\"#fb9f3a\"],[0.8888888888888888,\"#fdca26\"],[1.0,\"#f0f921\"]],\"diverging\":[[0,\"#8e0152\"],[0.1,\"#c51b7d\"],[0.2,\"#de77ae\"],[0.3,\"#f1b6da\"],[0.4,\"#fde0ef\"],[0.5,\"#f7f7f7\"],[0.6,\"#e6f5d0\"],[0.7,\"#b8e186\"],[0.8,\"#7fbc41\"],[0.9,\"#4d9221\"],[1,\"#276419\"]]},\"xaxis\":{\"gridcolor\":\"white\",\"linecolor\":\"white\",\"ticks\":\"\",\"title\":{\"standoff\":15},\"zerolinecolor\":\"white\",\"automargin\":true,\"zerolinewidth\":2},\"yaxis\":{\"gridcolor\":\"white\",\"linecolor\":\"white\",\"ticks\":\"\",\"title\":{\"standoff\":15},\"zerolinecolor\":\"white\",\"automargin\":true,\"zerolinewidth\":2},\"scene\":{\"xaxis\":{\"backgroundcolor\":\"#E5ECF6\",\"gridcolor\":\"white\",\"linecolor\":\"white\",\"showbackground\":true,\"ticks\":\"\",\"zerolinecolor\":\"white\",\"gridwidth\":2},\"yaxis\":{\"backgroundcolor\":\"#E5ECF6\",\"gridcolor\":\"white\",\"linecolor\":\"white\",\"showbackground\":true,\"ticks\":\"\",\"zerolinecolor\":\"white\",\"gridwidth\":2},\"zaxis\":{\"backgroundcolor\":\"#E5ECF6\",\"gridcolor\":\"white\",\"linecolor\":\"white\",\"showbackground\":true,\"ticks\":\"\",\"zerolinecolor\":\"white\",\"gridwidth\":2}},\"shapedefaults\":{\"line\":{\"color\":\"#2a3f5f\"}},\"annotationdefaults\":{\"arrowcolor\":\"#2a3f5f\",\"arrowhead\":0,\"arrowwidth\":1},\"geo\":{\"bgcolor\":\"white\",\"landcolor\":\"#E5ECF6\",\"subunitcolor\":\"white\",\"showland\":true,\"showlakes\":true,\"lakecolor\":\"white\"},\"title\":{\"x\":0.05},\"mapbox\":{\"style\":\"light\"}}},\"xaxis\":{\"anchor\":\"y\",\"domain\":[0.0,1.0],\"scaleanchor\":\"y\",\"constrain\":\"domain\"},\"yaxis\":{\"anchor\":\"x\",\"domain\":[0.0,1.0],\"autorange\":\"reversed\",\"constrain\":\"domain\"},\"coloraxis\":{\"colorscale\":[[0.0,\"#0d0887\"],[0.1111111111111111,\"#46039f\"],[0.2222222222222222,\"#7201a8\"],[0.3333333333333333,\"#9c179e\"],[0.4444444444444444,\"#bd3786\"],[0.5555555555555556,\"#d8576b\"],[0.6666666666666666,\"#ed7953\"],[0.7777777777777778,\"#fb9f3a\"],[0.8888888888888888,\"#fdca26\"],[1.0,\"#f0f921\"]]},\"margin\":{\"t\":60},\"width\":900,\"height\":700},                        {\"responsive\": true}                    ).then(function(){\n",
       "                            \n",
       "var gd = document.getElementById('1f009a09-801c-4011-ba1b-a66bd08ba728');\n",
       "var x = new MutationObserver(function (mutations, observer) {{\n",
       "        var display = window.getComputedStyle(gd).display;\n",
       "        if (!display || display === 'none') {{\n",
       "            console.log([gd, 'removed!']);\n",
       "            Plotly.purge(gd);\n",
       "            observer.disconnect();\n",
       "        }}\n",
       "}});\n",
       "\n",
       "// Listen for the removal of the full notebook cells\n",
       "var notebookContainer = gd.closest('#notebook-container');\n",
       "if (notebookContainer) {{\n",
       "    x.observe(notebookContainer, {childList: true});\n",
       "}}\n",
       "\n",
       "// Listen for the clearing of the current output cell\n",
       "var outputEl = gd.closest('.output');\n",
       "if (outputEl) {{\n",
       "    x.observe(outputEl, {childList: true});\n",
       "}}\n",
       "\n",
       "                        })                };                });            </script>        </div>"
      ]
     },
     "metadata": {},
     "output_type": "display_data"
    }
   ],
   "source": [
    "# Mapa de calor para ver las posibles correlaciones\n",
    "import plotly.express as px\n",
    "\n",
    "df = df_precio_10_monedas[['dolar', 'dolar_mercado_cap', 'dolar_24h_vol',\n",
    "       'dolar_24h_cambio', 'euro', 'euro_mercado_cap', 'euro_24h_vol',\n",
    "       'euro_24h_cambio',]].corr()\n",
    "\n",
    "fig = px.imshow(df, text_auto=True)\n",
    "fig.update_layout(\n",
    "    width=900, # ancho en pixeles\n",
    "    height=700, # altura en pixeles\n",
    ")\n",
    "fig.show()"
   ]
  },
  {
   "cell_type": "markdown",
   "id": "a37406a1",
   "metadata": {},
   "source": [
    "Este gráfico es un heat map que muestra la correlación entre diferentes variables relacionadas con el mercado  de las criptomonedas.  \n",
    "La correlación es una medida que indica el grado de relación lineal entre dos variables. Puede tomar valores   entre -1 y 1,  \n",
    "donde -1 significa una relación negativa perfecta, 0(cero) significa que no hay relación y 1(uno) significa una relación positiva perfecta."
   ]
  },
  {
   "cell_type": "code",
   "execution_count": 18,
   "id": "9bac168c",
   "metadata": {
    "tags": []
   },
   "outputs": [],
   "source": [
    "# Eliminamos para liberar memoria\n",
    "del df_precio_10_monedas"
   ]
  },
  {
   "cell_type": "markdown",
   "id": "3d558773",
   "metadata": {},
   "source": [
    "### Comienzo Análisis al datasets df_historico_primeras4_monedas"
   ]
  },
  {
   "cell_type": "code",
   "execution_count": 19,
   "id": "d2d376b3",
   "metadata": {
    "tags": []
   },
   "outputs": [
    {
     "data": {
      "text/html": [
       "<div><div id=91cd3d4f-d013-4fa2-a353-e2ceb7fc7791 style=\"display:none; background-color:#9D6CFF; color:white; width:200px; height:30px; padding-left:5px; border-radius:4px; flex-direction:row; justify-content:space-around; align-items:center;\" onmouseover=\"this.style.backgroundColor='#BA9BF8'\" onmouseout=\"this.style.backgroundColor='#9D6CFF'\" onclick=\"window.commands?.execute('create-mitosheet-from-dataframe-output');\">See Full Dataframe in Mito</div> <script> if (window.commands?.hasCommand('create-mitosheet-from-dataframe-output')) document.getElementById('91cd3d4f-d013-4fa2-a353-e2ceb7fc7791').style.display = 'flex' </script> <table border=\"1\" class=\"dataframe\">\n",
       "  <thead>\n",
       "    <tr style=\"text-align: right;\">\n",
       "      <th></th>\n",
       "      <th>fecha</th>\n",
       "      <th>precio_btc</th>\n",
       "      <th>mercado_cap_btc</th>\n",
       "      <th>total_volumen_btc</th>\n",
       "      <th>precio_ethereum</th>\n",
       "      <th>mercado_cap_ethereum</th>\n",
       "      <th>total_volumen_ethereum</th>\n",
       "      <th>precio_tether</th>\n",
       "      <th>mercado_cap_tether</th>\n",
       "      <th>total_volumen_tether</th>\n",
       "      <th>precio_binance</th>\n",
       "      <th>mercado_caps_binance</th>\n",
       "      <th>total_volumen_binance</th>\n",
       "    </tr>\n",
       "  </thead>\n",
       "  <tbody>\n",
       "    <tr>\n",
       "      <th>0</th>\n",
       "      <td>2020-07-31</td>\n",
       "      <td>11325.551527</td>\n",
       "      <td>2.089338e+11</td>\n",
       "      <td>2.232980e+10</td>\n",
       "      <td>346.003506</td>\n",
       "      <td>3.879488e+10</td>\n",
       "      <td>1.163842e+10</td>\n",
       "      <td>0.999826</td>\n",
       "      <td>1.077849e+10</td>\n",
       "      <td>2.767305e+10</td>\n",
       "      <td>20.693956</td>\n",
       "      <td>3.060607e+09</td>\n",
       "      <td>2.369806e+08</td>\n",
       "    </tr>\n",
       "    <tr>\n",
       "      <th>1</th>\n",
       "      <td>2020-08-01</td>\n",
       "      <td>11812.094307</td>\n",
       "      <td>2.177414e+11</td>\n",
       "      <td>2.619895e+10</td>\n",
       "      <td>387.942421</td>\n",
       "      <td>4.341167e+10</td>\n",
       "      <td>1.537952e+10</td>\n",
       "      <td>1.000382</td>\n",
       "      <td>1.094125e+10</td>\n",
       "      <td>3.510386e+10</td>\n",
       "      <td>21.602046</td>\n",
       "      <td>3.199993e+09</td>\n",
       "      <td>2.772654e+08</td>\n",
       "    </tr>\n",
       "    <tr>\n",
       "      <th>2</th>\n",
       "      <td>2020-08-02</td>\n",
       "      <td>11066.306241</td>\n",
       "      <td>2.041261e+11</td>\n",
       "      <td>2.758459e+10</td>\n",
       "      <td>370.732302</td>\n",
       "      <td>4.146994e+10</td>\n",
       "      <td>1.520290e+10</td>\n",
       "      <td>0.999685</td>\n",
       "      <td>1.106235e+10</td>\n",
       "      <td>4.013937e+10</td>\n",
       "      <td>20.907935</td>\n",
       "      <td>3.086470e+09</td>\n",
       "      <td>3.154515e+08</td>\n",
       "    </tr>\n",
       "    <tr>\n",
       "      <th>3</th>\n",
       "      <td>2020-08-03</td>\n",
       "      <td>11230.907763</td>\n",
       "      <td>2.072185e+11</td>\n",
       "      <td>2.058334e+10</td>\n",
       "      <td>386.247448</td>\n",
       "      <td>4.327238e+10</td>\n",
       "      <td>1.117415e+10</td>\n",
       "      <td>0.999691</td>\n",
       "      <td>1.111863e+10</td>\n",
       "      <td>2.894188e+10</td>\n",
       "      <td>21.955920</td>\n",
       "      <td>3.239321e+09</td>\n",
       "      <td>2.794168e+08</td>\n",
       "    </tr>\n",
       "    <tr>\n",
       "      <th>4</th>\n",
       "      <td>2020-08-04</td>\n",
       "      <td>11181.917508</td>\n",
       "      <td>2.065835e+11</td>\n",
       "      <td>2.052719e+10</td>\n",
       "      <td>389.383008</td>\n",
       "      <td>4.378728e+10</td>\n",
       "      <td>1.211399e+10</td>\n",
       "      <td>0.999923</td>\n",
       "      <td>1.118221e+10</td>\n",
       "      <td>2.876236e+10</td>\n",
       "      <td>22.262852</td>\n",
       "      <td>3.293276e+09</td>\n",
       "      <td>2.460284e+08</td>\n",
       "    </tr>\n",
       "  </tbody>\n",
       "</table></div>"
      ],
      "text/plain": [
       "        fecha    precio_btc  mercado_cap_btc  total_volumen_btc  \\\n",
       "0  2020-07-31  11325.551527     2.089338e+11       2.232980e+10   \n",
       "1  2020-08-01  11812.094307     2.177414e+11       2.619895e+10   \n",
       "2  2020-08-02  11066.306241     2.041261e+11       2.758459e+10   \n",
       "3  2020-08-03  11230.907763     2.072185e+11       2.058334e+10   \n",
       "4  2020-08-04  11181.917508     2.065835e+11       2.052719e+10   \n",
       "\n",
       "   precio_ethereum  mercado_cap_ethereum  total_volumen_ethereum  \\\n",
       "0       346.003506          3.879488e+10            1.163842e+10   \n",
       "1       387.942421          4.341167e+10            1.537952e+10   \n",
       "2       370.732302          4.146994e+10            1.520290e+10   \n",
       "3       386.247448          4.327238e+10            1.117415e+10   \n",
       "4       389.383008          4.378728e+10            1.211399e+10   \n",
       "\n",
       "   precio_tether  mercado_cap_tether   total_volumen_tether  precio_binance  \\\n",
       "0       0.999826        1.077849e+10           2.767305e+10       20.693956   \n",
       "1       1.000382        1.094125e+10           3.510386e+10       21.602046   \n",
       "2       0.999685        1.106235e+10           4.013937e+10       20.907935   \n",
       "3       0.999691        1.111863e+10           2.894188e+10       21.955920   \n",
       "4       0.999923        1.118221e+10           2.876236e+10       22.262852   \n",
       "\n",
       "   mercado_caps_binance  total_volumen_binance  \n",
       "0          3.060607e+09           2.369806e+08  \n",
       "1          3.199993e+09           2.772654e+08  \n",
       "2          3.086470e+09           3.154515e+08  \n",
       "3          3.239321e+09           2.794168e+08  \n",
       "4          3.293276e+09           2.460284e+08  "
      ]
     },
     "execution_count": 19,
     "metadata": {},
     "output_type": "execute_result"
    }
   ],
   "source": [
    "df_historico_primeras4_monedas.head()"
   ]
  },
  {
   "cell_type": "code",
   "execution_count": 20,
   "id": "c42b8b64",
   "metadata": {
    "tags": []
   },
   "outputs": [
    {
     "name": "stdout",
     "output_type": "stream",
     "text": [
      "** Info - Información general **\n",
      "<class 'pandas.core.frame.DataFrame'>\n",
      "RangeIndex: 1095 entries, 0 to 1094\n",
      "Data columns (total 13 columns):\n",
      " #   Column                  Non-Null Count  Dtype  \n",
      "---  ------                  --------------  -----  \n",
      " 0   fecha                   1095 non-null   object \n",
      " 1   precio_btc              1095 non-null   float64\n",
      " 2   mercado_cap_btc         1095 non-null   float64\n",
      " 3   total_volumen_btc       1095 non-null   float64\n",
      " 4   precio_ethereum         1095 non-null   float64\n",
      " 5   mercado_cap_ethereum    1095 non-null   float64\n",
      " 6   total_volumen_ethereum  1095 non-null   float64\n",
      " 7   precio_tether           1095 non-null   float64\n",
      " 8   mercado_cap_tether      1095 non-null   float64\n",
      " 9    total_volumen_tether   1095 non-null   float64\n",
      " 10  precio_binance          1095 non-null   float64\n",
      " 11  mercado_caps_binance    1095 non-null   float64\n",
      " 12  total_volumen_binance   1095 non-null   float64\n",
      "dtypes: float64(12), object(1)\n",
      "memory usage: 111.3+ KB\n",
      "None\n",
      "=======================================================\n",
      "** Shape **\n",
      "Filas: 1095 - Columnas: 13\n",
      "=======================================================\n",
      "** Describe - Estadísticas resumidas **\n",
      "                         count          mean           std           min  \\\n",
      "precio_btc              1095.0  3.231766e+04  1.436822e+04  1.012501e+04   \n",
      "mercado_cap_btc         1095.0  6.115124e+11  2.687014e+11  1.868254e+11   \n",
      "total_volumen_btc       1095.0  3.251123e+10  1.826688e+10  3.882362e+09   \n",
      "precio_ethereum         1095.0  1.991277e+03  1.055661e+03  3.210774e+02   \n",
      "mercado_cap_ethereum    1095.0  2.359559e+11  1.251037e+11  3.623917e+10   \n",
      "total_volumen_ethereum  1095.0  1.913457e+10  1.448327e+10  2.179799e+09   \n",
      "precio_tether           1095.0  1.000834e+00  2.062351e-03  9.818375e-01   \n",
      "mercado_cap_tether      1095.0  6.021176e+10  2.237785e+10  1.077849e+10   \n",
      " total_volumen_tether   1095.0  5.830054e+10  5.177493e+10  6.894278e+09   \n",
      "precio_binance          1095.0  2.945817e+02  1.555121e+02  1.940743e+01   \n",
      "mercado_caps_binance    1095.0  4.730735e+10  2.561341e+10  2.870048e+09   \n",
      "total_volumen_binance   1095.0  1.612265e+09  1.884132e+09  1.776448e+07   \n",
      "\n",
      "                                 25%           50%           75%           max  \n",
      "precio_btc              2.026417e+04  2.983345e+04  4.301199e+04  6.761702e+04  \n",
      "mercado_cap_btc         3.876212e+11  5.705318e+11  8.118142e+11  1.278798e+12  \n",
      "total_volumen_btc       2.075658e+10  2.805753e+10  3.989328e+10  1.788941e+11  \n",
      "precio_ethereum         1.294012e+03  1.817860e+03  2.697593e+03  4.815005e+03  \n",
      "mercado_cap_ethereum    1.553345e+11  2.173208e+11  3.182375e+11  5.716658e+11  \n",
      "total_volumen_ethereum  9.883019e+09  1.528597e+10  2.320096e+10  1.409065e+11  \n",
      "precio_tether           9.999532e-01  1.000568e+00  1.001504e+00  1.011356e+00  \n",
      "mercado_cap_tether      5.146618e+10  6.758045e+10  7.760984e+10  8.389507e+10  \n",
      " total_volumen_tether   3.267891e+10  4.939724e+10  6.828071e+10  9.267677e+11  \n",
      "precio_binance          2.417710e+02  3.029084e+02  3.851080e+02  6.750990e+02  \n",
      "mercado_caps_binance    3.795978e+10  4.813174e+10  6.303960e+10  1.104412e+11  \n",
      "total_volumen_binance   5.228695e+08  1.077437e+09  1.866837e+09  2.210352e+10  \n",
      "=======================================================\n",
      "** NaN - Nulos **\n",
      "fecha                     0\n",
      "precio_btc                0\n",
      "mercado_cap_btc           0\n",
      "total_volumen_btc         0\n",
      "precio_ethereum           0\n",
      "mercado_cap_ethereum      0\n",
      "total_volumen_ethereum    0\n",
      "precio_tether             0\n",
      "mercado_cap_tether        0\n",
      " total_volumen_tether     0\n",
      "precio_binance            0\n",
      "mercado_caps_binance      0\n",
      "total_volumen_binance     0\n",
      "dtype: int64\n",
      "=======================================================\n",
      "** Duplicated - Duplicados **\n",
      "0\n"
     ]
    }
   ],
   "source": [
    "print_df_info(df_historico_primeras4_monedas)"
   ]
  },
  {
   "cell_type": "code",
   "execution_count": 21,
   "id": "d9dd0b4e",
   "metadata": {
    "tags": []
   },
   "outputs": [],
   "source": [
    "# Transformar de object a date\n",
    "df_historico_primeras4_monedas[\"fecha\"] = pd.to_datetime(df_historico_primeras4_monedas[\"fecha\"], format=\"%Y-%m-%d\")"
   ]
  },
  {
   "cell_type": "code",
   "execution_count": 22,
   "id": "63bac65c-6f41-4be5-a9c2-1120271cb6fa",
   "metadata": {
    "tags": []
   },
   "outputs": [
    {
     "data": {
      "text/plain": [
       "fecha                     datetime64[ns]\n",
       "precio_btc                       float64\n",
       "mercado_cap_btc                  float64\n",
       "total_volumen_btc                float64\n",
       "precio_ethereum                  float64\n",
       "mercado_cap_ethereum             float64\n",
       "total_volumen_ethereum           float64\n",
       "precio_tether                    float64\n",
       "mercado_cap_tether               float64\n",
       " total_volumen_tether            float64\n",
       "precio_binance                   float64\n",
       "mercado_caps_binance             float64\n",
       "total_volumen_binance            float64\n",
       "dtype: object"
      ]
     },
     "execution_count": 22,
     "metadata": {},
     "output_type": "execute_result"
    }
   ],
   "source": [
    "# Comprobar el cambio\n",
    "df_historico_primeras4_monedas.dtypes"
   ]
  },
  {
   "cell_type": "code",
   "execution_count": 23,
   "id": "6cb13a09",
   "metadata": {
    "tags": []
   },
   "outputs": [],
   "source": [
    "# crear dataframes por año para comparar y ver la evolución en el tiempo del precio\n",
    "# variable para escoger los años\n",
    "fecha_anual = [\"2020-07-31\", \"2021-07-31\", \"2022-07-31\", \"2023-07-30\"]\n",
    "\n",
    "# dataframe comparar precios\n",
    "df_precio_hist = df_historico_primeras4_monedas[df_historico_primeras4_monedas[\"fecha\"].isin(fecha_anual)].drop(['mercado_cap_btc', 'total_volumen_btc', 'mercado_cap_ethereum', 'total_volumen_ethereum', 'mercado_cap_tether', ' total_volumen_tether', 'mercado_caps_binance', 'total_volumen_binance'], axis=1).reset_index(drop=True)\n",
    "\n",
    "# dataframe capitalización de mercados\n",
    "df_mercado_caps_hist = df_historico_primeras4_monedas[df_historico_primeras4_monedas[\"fecha\"].isin(fecha_anual)].drop(['precio_btc', 'total_volumen_btc', 'precio_ethereum', 'total_volumen_ethereum', 'precio_tether', ' total_volumen_tether',\n",
    "'precio_binance', 'total_volumen_binance'], axis=1).reset_index(drop=True)\n",
    "\n",
    "# dataframe volúmen total de transacciones\n",
    "df_total_volumen_hist = df_historico_primeras4_monedas[df_historico_primeras4_monedas[\"fecha\"].isin(fecha_anual)].drop(['precio_btc', 'mercado_cap_btc', 'precio_ethereum', 'mercado_cap_ethereum', 'precio_tether', 'mercado_cap_tether', 'precio_binance', 'mercado_caps_binance'], axis=1).reset_index(drop=True)\n",
    "\n",
    "\n",
    "# renombrar columna date\n",
    "df_precio_hist = df_precio_hist.rename(columns={'fecha':'año'})\n",
    "df_mercado_caps_hist = df_mercado_caps_hist.rename(columns={'fecha':'año'})\n",
    "df_total_volumen_hist = df_total_volumen_hist.rename(columns={'fecha':'año'})\n",
    "\n",
    "# extraer el año\n",
    "df_precio_hist[\"año\"] = df_precio_hist[\"año\"].dt.year\n",
    "df_mercado_caps_hist[\"año\"] = df_mercado_caps_hist[\"año\"].dt.year\n",
    "df_total_volumen_hist[\"año\"] = df_total_volumen_hist[\"año\"].dt.year"
   ]
  },
  {
   "cell_type": "code",
   "execution_count": 24,
   "id": "9f107c38",
   "metadata": {
    "tags": []
   },
   "outputs": [
    {
     "data": {
      "text/html": [
       "<div><div id=6af8d77d-7cbd-44bf-935a-0f6ff2842c2c style=\"display:none; background-color:#9D6CFF; color:white; width:200px; height:30px; padding-left:5px; border-radius:4px; flex-direction:row; justify-content:space-around; align-items:center;\" onmouseover=\"this.style.backgroundColor='#BA9BF8'\" onmouseout=\"this.style.backgroundColor='#9D6CFF'\" onclick=\"window.commands?.execute('create-mitosheet-from-dataframe-output');\">See Full Dataframe in Mito</div> <script> if (window.commands?.hasCommand('create-mitosheet-from-dataframe-output')) document.getElementById('6af8d77d-7cbd-44bf-935a-0f6ff2842c2c').style.display = 'flex' </script> <table border=\"1\" class=\"dataframe\">\n",
       "  <thead>\n",
       "    <tr style=\"text-align: right;\">\n",
       "      <th></th>\n",
       "      <th>año</th>\n",
       "      <th>precio_btc</th>\n",
       "      <th>precio_ethereum</th>\n",
       "      <th>precio_tether</th>\n",
       "      <th>precio_binance</th>\n",
       "    </tr>\n",
       "  </thead>\n",
       "  <tbody>\n",
       "    <tr>\n",
       "      <th>0</th>\n",
       "      <td>2020</td>\n",
       "      <td>11325.551527</td>\n",
       "      <td>346.003506</td>\n",
       "      <td>0.999826</td>\n",
       "      <td>20.693956</td>\n",
       "    </tr>\n",
       "    <tr>\n",
       "      <th>1</th>\n",
       "      <td>2021</td>\n",
       "      <td>41754.166604</td>\n",
       "      <td>2541.674599</td>\n",
       "      <td>1.000153</td>\n",
       "      <td>334.985029</td>\n",
       "    </tr>\n",
       "    <tr>\n",
       "      <th>2</th>\n",
       "      <td>2022</td>\n",
       "      <td>23379.700525</td>\n",
       "      <td>1682.011374</td>\n",
       "      <td>1.001284</td>\n",
       "      <td>283.915407</td>\n",
       "    </tr>\n",
       "    <tr>\n",
       "      <th>3</th>\n",
       "      <td>2023</td>\n",
       "      <td>29277.755810</td>\n",
       "      <td>1861.869910</td>\n",
       "      <td>1.000238</td>\n",
       "      <td>242.540332</td>\n",
       "    </tr>\n",
       "  </tbody>\n",
       "</table></div>"
      ],
      "text/plain": [
       "    año    precio_btc  precio_ethereum  precio_tether  precio_binance\n",
       "0  2020  11325.551527       346.003506       0.999826       20.693956\n",
       "1  2021  41754.166604      2541.674599       1.000153      334.985029\n",
       "2  2022  23379.700525      1682.011374       1.001284      283.915407\n",
       "3  2023  29277.755810      1861.869910       1.000238      242.540332"
      ]
     },
     "execution_count": 24,
     "metadata": {},
     "output_type": "execute_result"
    }
   ],
   "source": [
    "# visualizar\n",
    "df_precio_hist"
   ]
  },
  {
   "cell_type": "code",
   "execution_count": 25,
   "id": "5d88162d-c8fe-4715-b8b0-c1cc45ed84e1",
   "metadata": {
    "tags": []
   },
   "outputs": [
    {
     "data": {
      "text/html": [
       "<iframe\n",
       "    scrolling=\"no\"\n",
       "    width=\"100%\"\n",
       "    height=\"545px\"\n",
       "    src=\"iframe_figures/figure_25.html\"\n",
       "    frameborder=\"0\"\n",
       "    allowfullscreen\n",
       "></iframe>\n"
      ]
     },
     "metadata": {},
     "output_type": "display_data"
    }
   ],
   "source": [
    "# Crear gráfico comparar precios últimos 3 años\n",
    "fig = px.line(df_precio_hist, x='año', y=['precio_btc', 'precio_ethereum', 'precio_tether', 'precio_binance'], line_shape='linear')\n",
    "fig.update_layout(\n",
    "    title='Histórico de Precios 4 Primeras Criptomonedas - 2020-2023', \n",
    "    xaxis = dict(\n",
    "        showgrid=True\n",
    "    ), \n",
    "    yaxis = dict(\n",
    "        showgrid=True\n",
    "    ),  \n",
    "    paper_bgcolor='#FFFFFF'\n",
    ")\n",
    "fig.update_yaxes(title_text='Precio')\n",
    "fig.show(renderer=\"iframe\")"
   ]
  },
  {
   "cell_type": "markdown",
   "id": "344ad7f4-da96-4381-a976-c4a4643ed245",
   "metadata": {},
   "source": [
    "**El precio de las criptomonedas ha aumentado en general en los últimos 3 años.**  \n",
    "- Bitcoin ha sido la criptomoneda más cara y con mayor variación de precio, alcanzando un máximo de alrededor de 40000 dólares en 2021 y un mínimo de alrededor de 5000 dólares en 2020."
   ]
  },
  {
   "cell_type": "code",
   "execution_count": 26,
   "id": "4e4d3cc0-f9c8-4b80-9c8f-adf4eb59f102",
   "metadata": {
    "tags": []
   },
   "outputs": [
    {
     "data": {
      "text/html": [
       "<iframe\n",
       "    scrolling=\"no\"\n",
       "    width=\"100%\"\n",
       "    height=\"545px\"\n",
       "    src=\"iframe_figures/figure_26.html\"\n",
       "    frameborder=\"0\"\n",
       "    allowfullscreen\n",
       "></iframe>\n"
      ]
     },
     "metadata": {},
     "output_type": "display_data"
    }
   ],
   "source": [
    "# Crear gráfico comparar capitalización de mercado últimos 3 años\n",
    "fig = px.line(df_mercado_caps_hist, x='año', y=[\"mercado_cap_btc\", \"mercado_cap_ethereum\", \"mercado_cap_tether\", \"mercado_caps_binance\"], line_shape='linear')\n",
    "fig.update_layout(\n",
    "    title='Histórico de Cap. Mercado 4 Primeras Criptomonedas - 2020-2023', \n",
    "    xaxis = dict(\n",
    "        showgrid=True\n",
    "    ), \n",
    "    yaxis = dict(\n",
    "        showgrid=True\n",
    "    ),  \n",
    "    paper_bgcolor='#FFFFFF'\n",
    ")\n",
    "fig.update_yaxes(title_text='Cantidad')\n",
    "fig.show(renderer=\"iframe\")"
   ]
  },
  {
   "cell_type": "markdown",
   "id": "9e199023-b7be-476b-9869-a5ba778999d0",
   "metadata": {},
   "source": [
    "**Notamos como bitcoin mantiene su dominancia en la capitalizaciób del mercado**  \n",
    "- Podemos observar propuestas como Ethereum que también tienen presencia importante en la  \n",
    "capitalización de mercado"
   ]
  },
  {
   "cell_type": "code",
   "execution_count": 27,
   "id": "edbcf7fd-49b1-4479-b80a-19c8fe536ef2",
   "metadata": {
    "tags": []
   },
   "outputs": [
    {
     "data": {
      "text/html": [
       "<iframe\n",
       "    scrolling=\"no\"\n",
       "    width=\"100%\"\n",
       "    height=\"545px\"\n",
       "    src=\"iframe_figures/figure_27.html\"\n",
       "    frameborder=\"0\"\n",
       "    allowfullscreen\n",
       "></iframe>\n"
      ]
     },
     "metadata": {},
     "output_type": "display_data"
    }
   ],
   "source": [
    "# Crear gráfico comparar total volúmen transacciones últimos 3 años\n",
    "fig = px.line(df_total_volumen_hist, x='año', y=[\"total_volumen_btc\", \"total_volumen_ethereum\", \" total_volumen_tether\",  \"total_volumen_binance\"], line_shape='linear')\n",
    "fig.update_layout(\n",
    "    title=\"Histórico de Volúmen Transacciones 4 Primeras Criptomonedas - 2020-2023\", \n",
    "    xaxis = dict(\n",
    "        showgrid=True\n",
    "    ), \n",
    "    yaxis = dict(\n",
    "        showgrid=True\n",
    "    ),  \n",
    "    paper_bgcolor='#FFFFFF'\n",
    ")\n",
    "fig.update_yaxes(title_text='Volúmen')\n",
    "fig.show(renderer=\"iframe\")"
   ]
  },
  {
   "cell_type": "markdown",
   "id": "1896e728-448c-4a3c-899e-65f896f760c3",
   "metadata": {},
   "source": [
    "**Se espera una posible disminución del volumen de transacciones para las cuatro criptomonedas en 2023.**"
   ]
  },
  {
   "cell_type": "code",
   "execution_count": 28,
   "id": "808cccf9",
   "metadata": {
    "tags": []
   },
   "outputs": [
    {
     "data": {
      "application/vnd.plotly.v1+json": {
       "config": {
        "plotlyServerURL": "https://plot.ly"
       },
       "data": [
        {
         "labels": [
          "Bitcoin",
          "Ethereum",
          "Tether",
          "Binance"
         ],
         "pull": [
          0.2,
          0,
          0,
          0
         ],
         "type": "pie",
         "values": [
          611512412362.1199,
          235955942501.39023,
          60211760495.188126,
          47307349404.48355
         ]
        }
       ],
       "layout": {
        "height": 700,
        "template": {
         "data": {
          "bar": [
           {
            "error_x": {
             "color": "#2a3f5f"
            },
            "error_y": {
             "color": "#2a3f5f"
            },
            "marker": {
             "line": {
              "color": "#E5ECF6",
              "width": 0.5
             },
             "pattern": {
              "fillmode": "overlay",
              "size": 10,
              "solidity": 0.2
             }
            },
            "type": "bar"
           }
          ],
          "barpolar": [
           {
            "marker": {
             "line": {
              "color": "#E5ECF6",
              "width": 0.5
             },
             "pattern": {
              "fillmode": "overlay",
              "size": 10,
              "solidity": 0.2
             }
            },
            "type": "barpolar"
           }
          ],
          "carpet": [
           {
            "aaxis": {
             "endlinecolor": "#2a3f5f",
             "gridcolor": "white",
             "linecolor": "white",
             "minorgridcolor": "white",
             "startlinecolor": "#2a3f5f"
            },
            "baxis": {
             "endlinecolor": "#2a3f5f",
             "gridcolor": "white",
             "linecolor": "white",
             "minorgridcolor": "white",
             "startlinecolor": "#2a3f5f"
            },
            "type": "carpet"
           }
          ],
          "choropleth": [
           {
            "colorbar": {
             "outlinewidth": 0,
             "ticks": ""
            },
            "type": "choropleth"
           }
          ],
          "contour": [
           {
            "colorbar": {
             "outlinewidth": 0,
             "ticks": ""
            },
            "colorscale": [
             [
              0,
              "#0d0887"
             ],
             [
              0.1111111111111111,
              "#46039f"
             ],
             [
              0.2222222222222222,
              "#7201a8"
             ],
             [
              0.3333333333333333,
              "#9c179e"
             ],
             [
              0.4444444444444444,
              "#bd3786"
             ],
             [
              0.5555555555555556,
              "#d8576b"
             ],
             [
              0.6666666666666666,
              "#ed7953"
             ],
             [
              0.7777777777777778,
              "#fb9f3a"
             ],
             [
              0.8888888888888888,
              "#fdca26"
             ],
             [
              1,
              "#f0f921"
             ]
            ],
            "type": "contour"
           }
          ],
          "contourcarpet": [
           {
            "colorbar": {
             "outlinewidth": 0,
             "ticks": ""
            },
            "type": "contourcarpet"
           }
          ],
          "heatmap": [
           {
            "colorbar": {
             "outlinewidth": 0,
             "ticks": ""
            },
            "colorscale": [
             [
              0,
              "#0d0887"
             ],
             [
              0.1111111111111111,
              "#46039f"
             ],
             [
              0.2222222222222222,
              "#7201a8"
             ],
             [
              0.3333333333333333,
              "#9c179e"
             ],
             [
              0.4444444444444444,
              "#bd3786"
             ],
             [
              0.5555555555555556,
              "#d8576b"
             ],
             [
              0.6666666666666666,
              "#ed7953"
             ],
             [
              0.7777777777777778,
              "#fb9f3a"
             ],
             [
              0.8888888888888888,
              "#fdca26"
             ],
             [
              1,
              "#f0f921"
             ]
            ],
            "type": "heatmap"
           }
          ],
          "heatmapgl": [
           {
            "colorbar": {
             "outlinewidth": 0,
             "ticks": ""
            },
            "colorscale": [
             [
              0,
              "#0d0887"
             ],
             [
              0.1111111111111111,
              "#46039f"
             ],
             [
              0.2222222222222222,
              "#7201a8"
             ],
             [
              0.3333333333333333,
              "#9c179e"
             ],
             [
              0.4444444444444444,
              "#bd3786"
             ],
             [
              0.5555555555555556,
              "#d8576b"
             ],
             [
              0.6666666666666666,
              "#ed7953"
             ],
             [
              0.7777777777777778,
              "#fb9f3a"
             ],
             [
              0.8888888888888888,
              "#fdca26"
             ],
             [
              1,
              "#f0f921"
             ]
            ],
            "type": "heatmapgl"
           }
          ],
          "histogram": [
           {
            "marker": {
             "pattern": {
              "fillmode": "overlay",
              "size": 10,
              "solidity": 0.2
             }
            },
            "type": "histogram"
           }
          ],
          "histogram2d": [
           {
            "colorbar": {
             "outlinewidth": 0,
             "ticks": ""
            },
            "colorscale": [
             [
              0,
              "#0d0887"
             ],
             [
              0.1111111111111111,
              "#46039f"
             ],
             [
              0.2222222222222222,
              "#7201a8"
             ],
             [
              0.3333333333333333,
              "#9c179e"
             ],
             [
              0.4444444444444444,
              "#bd3786"
             ],
             [
              0.5555555555555556,
              "#d8576b"
             ],
             [
              0.6666666666666666,
              "#ed7953"
             ],
             [
              0.7777777777777778,
              "#fb9f3a"
             ],
             [
              0.8888888888888888,
              "#fdca26"
             ],
             [
              1,
              "#f0f921"
             ]
            ],
            "type": "histogram2d"
           }
          ],
          "histogram2dcontour": [
           {
            "colorbar": {
             "outlinewidth": 0,
             "ticks": ""
            },
            "colorscale": [
             [
              0,
              "#0d0887"
             ],
             [
              0.1111111111111111,
              "#46039f"
             ],
             [
              0.2222222222222222,
              "#7201a8"
             ],
             [
              0.3333333333333333,
              "#9c179e"
             ],
             [
              0.4444444444444444,
              "#bd3786"
             ],
             [
              0.5555555555555556,
              "#d8576b"
             ],
             [
              0.6666666666666666,
              "#ed7953"
             ],
             [
              0.7777777777777778,
              "#fb9f3a"
             ],
             [
              0.8888888888888888,
              "#fdca26"
             ],
             [
              1,
              "#f0f921"
             ]
            ],
            "type": "histogram2dcontour"
           }
          ],
          "mesh3d": [
           {
            "colorbar": {
             "outlinewidth": 0,
             "ticks": ""
            },
            "type": "mesh3d"
           }
          ],
          "parcoords": [
           {
            "line": {
             "colorbar": {
              "outlinewidth": 0,
              "ticks": ""
             }
            },
            "type": "parcoords"
           }
          ],
          "pie": [
           {
            "automargin": true,
            "type": "pie"
           }
          ],
          "scatter": [
           {
            "fillpattern": {
             "fillmode": "overlay",
             "size": 10,
             "solidity": 0.2
            },
            "type": "scatter"
           }
          ],
          "scatter3d": [
           {
            "line": {
             "colorbar": {
              "outlinewidth": 0,
              "ticks": ""
             }
            },
            "marker": {
             "colorbar": {
              "outlinewidth": 0,
              "ticks": ""
             }
            },
            "type": "scatter3d"
           }
          ],
          "scattercarpet": [
           {
            "marker": {
             "colorbar": {
              "outlinewidth": 0,
              "ticks": ""
             }
            },
            "type": "scattercarpet"
           }
          ],
          "scattergeo": [
           {
            "marker": {
             "colorbar": {
              "outlinewidth": 0,
              "ticks": ""
             }
            },
            "type": "scattergeo"
           }
          ],
          "scattergl": [
           {
            "marker": {
             "colorbar": {
              "outlinewidth": 0,
              "ticks": ""
             }
            },
            "type": "scattergl"
           }
          ],
          "scattermapbox": [
           {
            "marker": {
             "colorbar": {
              "outlinewidth": 0,
              "ticks": ""
             }
            },
            "type": "scattermapbox"
           }
          ],
          "scatterpolar": [
           {
            "marker": {
             "colorbar": {
              "outlinewidth": 0,
              "ticks": ""
             }
            },
            "type": "scatterpolar"
           }
          ],
          "scatterpolargl": [
           {
            "marker": {
             "colorbar": {
              "outlinewidth": 0,
              "ticks": ""
             }
            },
            "type": "scatterpolargl"
           }
          ],
          "scatterternary": [
           {
            "marker": {
             "colorbar": {
              "outlinewidth": 0,
              "ticks": ""
             }
            },
            "type": "scatterternary"
           }
          ],
          "surface": [
           {
            "colorbar": {
             "outlinewidth": 0,
             "ticks": ""
            },
            "colorscale": [
             [
              0,
              "#0d0887"
             ],
             [
              0.1111111111111111,
              "#46039f"
             ],
             [
              0.2222222222222222,
              "#7201a8"
             ],
             [
              0.3333333333333333,
              "#9c179e"
             ],
             [
              0.4444444444444444,
              "#bd3786"
             ],
             [
              0.5555555555555556,
              "#d8576b"
             ],
             [
              0.6666666666666666,
              "#ed7953"
             ],
             [
              0.7777777777777778,
              "#fb9f3a"
             ],
             [
              0.8888888888888888,
              "#fdca26"
             ],
             [
              1,
              "#f0f921"
             ]
            ],
            "type": "surface"
           }
          ],
          "table": [
           {
            "cells": {
             "fill": {
              "color": "#EBF0F8"
             },
             "line": {
              "color": "white"
             }
            },
            "header": {
             "fill": {
              "color": "#C8D4E3"
             },
             "line": {
              "color": "white"
             }
            },
            "type": "table"
           }
          ]
         },
         "layout": {
          "annotationdefaults": {
           "arrowcolor": "#2a3f5f",
           "arrowhead": 0,
           "arrowwidth": 1
          },
          "autotypenumbers": "strict",
          "coloraxis": {
           "colorbar": {
            "outlinewidth": 0,
            "ticks": ""
           }
          },
          "colorscale": {
           "diverging": [
            [
             0,
             "#8e0152"
            ],
            [
             0.1,
             "#c51b7d"
            ],
            [
             0.2,
             "#de77ae"
            ],
            [
             0.3,
             "#f1b6da"
            ],
            [
             0.4,
             "#fde0ef"
            ],
            [
             0.5,
             "#f7f7f7"
            ],
            [
             0.6,
             "#e6f5d0"
            ],
            [
             0.7,
             "#b8e186"
            ],
            [
             0.8,
             "#7fbc41"
            ],
            [
             0.9,
             "#4d9221"
            ],
            [
             1,
             "#276419"
            ]
           ],
           "sequential": [
            [
             0,
             "#0d0887"
            ],
            [
             0.1111111111111111,
             "#46039f"
            ],
            [
             0.2222222222222222,
             "#7201a8"
            ],
            [
             0.3333333333333333,
             "#9c179e"
            ],
            [
             0.4444444444444444,
             "#bd3786"
            ],
            [
             0.5555555555555556,
             "#d8576b"
            ],
            [
             0.6666666666666666,
             "#ed7953"
            ],
            [
             0.7777777777777778,
             "#fb9f3a"
            ],
            [
             0.8888888888888888,
             "#fdca26"
            ],
            [
             1,
             "#f0f921"
            ]
           ],
           "sequentialminus": [
            [
             0,
             "#0d0887"
            ],
            [
             0.1111111111111111,
             "#46039f"
            ],
            [
             0.2222222222222222,
             "#7201a8"
            ],
            [
             0.3333333333333333,
             "#9c179e"
            ],
            [
             0.4444444444444444,
             "#bd3786"
            ],
            [
             0.5555555555555556,
             "#d8576b"
            ],
            [
             0.6666666666666666,
             "#ed7953"
            ],
            [
             0.7777777777777778,
             "#fb9f3a"
            ],
            [
             0.8888888888888888,
             "#fdca26"
            ],
            [
             1,
             "#f0f921"
            ]
           ]
          },
          "colorway": [
           "#636efa",
           "#EF553B",
           "#00cc96",
           "#ab63fa",
           "#FFA15A",
           "#19d3f3",
           "#FF6692",
           "#B6E880",
           "#FF97FF",
           "#FECB52"
          ],
          "font": {
           "color": "#2a3f5f"
          },
          "geo": {
           "bgcolor": "white",
           "lakecolor": "white",
           "landcolor": "#E5ECF6",
           "showlakes": true,
           "showland": true,
           "subunitcolor": "white"
          },
          "hoverlabel": {
           "align": "left"
          },
          "hovermode": "closest",
          "mapbox": {
           "style": "light"
          },
          "paper_bgcolor": "white",
          "plot_bgcolor": "#E5ECF6",
          "polar": {
           "angularaxis": {
            "gridcolor": "white",
            "linecolor": "white",
            "ticks": ""
           },
           "bgcolor": "#E5ECF6",
           "radialaxis": {
            "gridcolor": "white",
            "linecolor": "white",
            "ticks": ""
           }
          },
          "scene": {
           "xaxis": {
            "backgroundcolor": "#E5ECF6",
            "gridcolor": "white",
            "gridwidth": 2,
            "linecolor": "white",
            "showbackground": true,
            "ticks": "",
            "zerolinecolor": "white"
           },
           "yaxis": {
            "backgroundcolor": "#E5ECF6",
            "gridcolor": "white",
            "gridwidth": 2,
            "linecolor": "white",
            "showbackground": true,
            "ticks": "",
            "zerolinecolor": "white"
           },
           "zaxis": {
            "backgroundcolor": "#E5ECF6",
            "gridcolor": "white",
            "gridwidth": 2,
            "linecolor": "white",
            "showbackground": true,
            "ticks": "",
            "zerolinecolor": "white"
           }
          },
          "shapedefaults": {
           "line": {
            "color": "#2a3f5f"
           }
          },
          "ternary": {
           "aaxis": {
            "gridcolor": "white",
            "linecolor": "white",
            "ticks": ""
           },
           "baxis": {
            "gridcolor": "white",
            "linecolor": "white",
            "ticks": ""
           },
           "bgcolor": "#E5ECF6",
           "caxis": {
            "gridcolor": "white",
            "linecolor": "white",
            "ticks": ""
           }
          },
          "title": {
           "x": 0.05
          },
          "xaxis": {
           "automargin": true,
           "gridcolor": "white",
           "linecolor": "white",
           "ticks": "",
           "title": {
            "standoff": 15
           },
           "zerolinecolor": "white",
           "zerolinewidth": 2
          },
          "yaxis": {
           "automargin": true,
           "gridcolor": "white",
           "linecolor": "white",
           "ticks": "",
           "title": {
            "standoff": 15
           },
           "zerolinecolor": "white",
           "zerolinewidth": 2
          }
         }
        },
        "title": {
         "text": "Promedio Capitalización de Mercado - 2020-2023"
        },
        "width": 700
       }
      },
      "image/png": "[encoded data removed]",
      "text/html": [
       "<div>                            <div id=\"808c3458-f8a4-41c7-9f15-3976596e8e1e\" class=\"plotly-graph-div\" style=\"height:700px; width:700px;\"></div>            <script type=\"text/javascript\">                require([\"plotly\"], function(Plotly) {                    window.PLOTLYENV=window.PLOTLYENV || {};                                    if (document.getElementById(\"808c3458-f8a4-41c7-9f15-3976596e8e1e\")) {                    Plotly.newPlot(                        \"808c3458-f8a4-41c7-9f15-3976596e8e1e\",                        [{\"labels\":[\"Bitcoin\",\"Ethereum\",\"Tether\",\"Binance\"],\"pull\":[0.2,0,0,0],\"values\":[611512412362.1199,235955942501.39023,60211760495.188126,47307349404.48355],\"type\":\"pie\"}],                        {\"template\":{\"data\":{\"histogram2dcontour\":[{\"type\":\"histogram2dcontour\",\"colorbar\":{\"outlinewidth\":0,\"ticks\":\"\"},\"colorscale\":[[0.0,\"#0d0887\"],[0.1111111111111111,\"#46039f\"],[0.2222222222222222,\"#7201a8\"],[0.3333333333333333,\"#9c179e\"],[0.4444444444444444,\"#bd3786\"],[0.5555555555555556,\"#d8576b\"],[0.6666666666666666,\"#ed7953\"],[0.7777777777777778,\"#fb9f3a\"],[0.8888888888888888,\"#fdca26\"],[1.0,\"#f0f921\"]]}],\"choropleth\":[{\"type\":\"choropleth\",\"colorbar\":{\"outlinewidth\":0,\"ticks\":\"\"}}],\"histogram2d\":[{\"type\":\"histogram2d\",\"colorbar\":{\"outlinewidth\":0,\"ticks\":\"\"},\"colorscale\":[[0.0,\"#0d0887\"],[0.1111111111111111,\"#46039f\"],[0.2222222222222222,\"#7201a8\"],[0.3333333333333333,\"#9c179e\"],[0.4444444444444444,\"#bd3786\"],[0.5555555555555556,\"#d8576b\"],[0.6666666666666666,\"#ed7953\"],[0.7777777777777778,\"#fb9f3a\"],[0.8888888888888888,\"#fdca26\"],[1.0,\"#f0f921\"]]}],\"heatmap\":[{\"type\":\"heatmap\",\"colorbar\":{\"outlinewidth\":0,\"ticks\":\"\"},\"colorscale\":[[0.0,\"#0d0887\"],[0.1111111111111111,\"#46039f\"],[0.2222222222222222,\"#7201a8\"],[0.3333333333333333,\"#9c179e\"],[0.4444444444444444,\"#bd3786\"],[0.5555555555555556,\"#d8576b\"],[0.6666666666666666,\"#ed7953\"],[0.7777777777777778,\"#fb9f3a\"],[0.8888888888888888,\"#fdca26\"],[1.0,\"#f0f921\"]]}],\"heatmapgl\":[{\"type\":\"heatmapgl\",\"colorbar\":{\"outlinewidth\":0,\"ticks\":\"\"},\"colorscale\":[[0.0,\"#0d0887\"],[0.1111111111111111,\"#46039f\"],[0.2222222222222222,\"#7201a8\"],[0.3333333333333333,\"#9c179e\"],[0.4444444444444444,\"#bd3786\"],[0.5555555555555556,\"#d8576b\"],[0.6666666666666666,\"#ed7953\"],[0.7777777777777778,\"#fb9f3a\"],[0.8888888888888888,\"#fdca26\"],[1.0,\"#f0f921\"]]}],\"contourcarpet\":[{\"type\":\"contourcarpet\",\"colorbar\":{\"outlinewidth\":0,\"ticks\":\"\"}}],\"contour\":[{\"type\":\"contour\",\"colorbar\":{\"outlinewidth\":0,\"ticks\":\"\"},\"colorscale\":[[0.0,\"#0d0887\"],[0.1111111111111111,\"#46039f\"],[0.2222222222222222,\"#7201a8\"],[0.3333333333333333,\"#9c179e\"],[0.4444444444444444,\"#bd3786\"],[0.5555555555555556,\"#d8576b\"],[0.6666666666666666,\"#ed7953\"],[0.7777777777777778,\"#fb9f3a\"],[0.8888888888888888,\"#fdca26\"],[1.0,\"#f0f921\"]]}],\"surface\":[{\"type\":\"surface\",\"colorbar\":{\"outlinewidth\":0,\"ticks\":\"\"},\"colorscale\":[[0.0,\"#0d0887\"],[0.1111111111111111,\"#46039f\"],[0.2222222222222222,\"#7201a8\"],[0.3333333333333333,\"#9c179e\"],[0.4444444444444444,\"#bd3786\"],[0.5555555555555556,\"#d8576b\"],[0.6666666666666666,\"#ed7953\"],[0.7777777777777778,\"#fb9f3a\"],[0.8888888888888888,\"#fdca26\"],[1.0,\"#f0f921\"]]}],\"mesh3d\":[{\"type\":\"mesh3d\",\"colorbar\":{\"outlinewidth\":0,\"ticks\":\"\"}}],\"scatter\":[{\"fillpattern\":{\"fillmode\":\"overlay\",\"size\":10,\"solidity\":0.2},\"type\":\"scatter\"}],\"parcoords\":[{\"type\":\"parcoords\",\"line\":{\"colorbar\":{\"outlinewidth\":0,\"ticks\":\"\"}}}],\"scatterpolargl\":[{\"type\":\"scatterpolargl\",\"marker\":{\"colorbar\":{\"outlinewidth\":0,\"ticks\":\"\"}}}],\"bar\":[{\"error_x\":{\"color\":\"#2a3f5f\"},\"error_y\":{\"color\":\"#2a3f5f\"},\"marker\":{\"line\":{\"color\":\"#E5ECF6\",\"width\":0.5},\"pattern\":{\"fillmode\":\"overlay\",\"size\":10,\"solidity\":0.2}},\"type\":\"bar\"}],\"scattergeo\":[{\"type\":\"scattergeo\",\"marker\":{\"colorbar\":{\"outlinewidth\":0,\"ticks\":\"\"}}}],\"scatterpolar\":[{\"type\":\"scatterpolar\",\"marker\":{\"colorbar\":{\"outlinewidth\":0,\"ticks\":\"\"}}}],\"histogram\":[{\"marker\":{\"pattern\":{\"fillmode\":\"overlay\",\"size\":10,\"solidity\":0.2}},\"type\":\"histogram\"}],\"scattergl\":[{\"type\":\"scattergl\",\"marker\":{\"colorbar\":{\"outlinewidth\":0,\"ticks\":\"\"}}}],\"scatter3d\":[{\"type\":\"scatter3d\",\"line\":{\"colorbar\":{\"outlinewidth\":0,\"ticks\":\"\"}},\"marker\":{\"colorbar\":{\"outlinewidth\":0,\"ticks\":\"\"}}}],\"scattermapbox\":[{\"type\":\"scattermapbox\",\"marker\":{\"colorbar\":{\"outlinewidth\":0,\"ticks\":\"\"}}}],\"scatterternary\":[{\"type\":\"scatterternary\",\"marker\":{\"colorbar\":{\"outlinewidth\":0,\"ticks\":\"\"}}}],\"scattercarpet\":[{\"type\":\"scattercarpet\",\"marker\":{\"colorbar\":{\"outlinewidth\":0,\"ticks\":\"\"}}}],\"carpet\":[{\"aaxis\":{\"endlinecolor\":\"#2a3f5f\",\"gridcolor\":\"white\",\"linecolor\":\"white\",\"minorgridcolor\":\"white\",\"startlinecolor\":\"#2a3f5f\"},\"baxis\":{\"endlinecolor\":\"#2a3f5f\",\"gridcolor\":\"white\",\"linecolor\":\"white\",\"minorgridcolor\":\"white\",\"startlinecolor\":\"#2a3f5f\"},\"type\":\"carpet\"}],\"table\":[{\"cells\":{\"fill\":{\"color\":\"#EBF0F8\"},\"line\":{\"color\":\"white\"}},\"header\":{\"fill\":{\"color\":\"#C8D4E3\"},\"line\":{\"color\":\"white\"}},\"type\":\"table\"}],\"barpolar\":[{\"marker\":{\"line\":{\"color\":\"#E5ECF6\",\"width\":0.5},\"pattern\":{\"fillmode\":\"overlay\",\"size\":10,\"solidity\":0.2}},\"type\":\"barpolar\"}],\"pie\":[{\"automargin\":true,\"type\":\"pie\"}]},\"layout\":{\"autotypenumbers\":\"strict\",\"colorway\":[\"#636efa\",\"#EF553B\",\"#00cc96\",\"#ab63fa\",\"#FFA15A\",\"#19d3f3\",\"#FF6692\",\"#B6E880\",\"#FF97FF\",\"#FECB52\"],\"font\":{\"color\":\"#2a3f5f\"},\"hovermode\":\"closest\",\"hoverlabel\":{\"align\":\"left\"},\"paper_bgcolor\":\"white\",\"plot_bgcolor\":\"#E5ECF6\",\"polar\":{\"bgcolor\":\"#E5ECF6\",\"angularaxis\":{\"gridcolor\":\"white\",\"linecolor\":\"white\",\"ticks\":\"\"},\"radialaxis\":{\"gridcolor\":\"white\",\"linecolor\":\"white\",\"ticks\":\"\"}},\"ternary\":{\"bgcolor\":\"#E5ECF6\",\"aaxis\":{\"gridcolor\":\"white\",\"linecolor\":\"white\",\"ticks\":\"\"},\"baxis\":{\"gridcolor\":\"white\",\"linecolor\":\"white\",\"ticks\":\"\"},\"caxis\":{\"gridcolor\":\"white\",\"linecolor\":\"white\",\"ticks\":\"\"}},\"coloraxis\":{\"colorbar\":{\"outlinewidth\":0,\"ticks\":\"\"}},\"colorscale\":{\"sequential\":[[0.0,\"#0d0887\"],[0.1111111111111111,\"#46039f\"],[0.2222222222222222,\"#7201a8\"],[0.3333333333333333,\"#9c179e\"],[0.4444444444444444,\"#bd3786\"],[0.5555555555555556,\"#d8576b\"],[0.6666666666666666,\"#ed7953\"],[0.7777777777777778,\"#fb9f3a\"],[0.8888888888888888,\"#fdca26\"],[1.0,\"#f0f921\"]],\"sequentialminus\":[[0.0,\"#0d0887\"],[0.1111111111111111,\"#46039f\"],[0.2222222222222222,\"#7201a8\"],[0.3333333333333333,\"#9c179e\"],[0.4444444444444444,\"#bd3786\"],[0.5555555555555556,\"#d8576b\"],[0.6666666666666666,\"#ed7953\"],[0.7777777777777778,\"#fb9f3a\"],[0.8888888888888888,\"#fdca26\"],[1.0,\"#f0f921\"]],\"diverging\":[[0,\"#8e0152\"],[0.1,\"#c51b7d\"],[0.2,\"#de77ae\"],[0.3,\"#f1b6da\"],[0.4,\"#fde0ef\"],[0.5,\"#f7f7f7\"],[0.6,\"#e6f5d0\"],[0.7,\"#b8e186\"],[0.8,\"#7fbc41\"],[0.9,\"#4d9221\"],[1,\"#276419\"]]},\"xaxis\":{\"gridcolor\":\"white\",\"linecolor\":\"white\",\"ticks\":\"\",\"title\":{\"standoff\":15},\"zerolinecolor\":\"white\",\"automargin\":true,\"zerolinewidth\":2},\"yaxis\":{\"gridcolor\":\"white\",\"linecolor\":\"white\",\"ticks\":\"\",\"title\":{\"standoff\":15},\"zerolinecolor\":\"white\",\"automargin\":true,\"zerolinewidth\":2},\"scene\":{\"xaxis\":{\"backgroundcolor\":\"#E5ECF6\",\"gridcolor\":\"white\",\"linecolor\":\"white\",\"showbackground\":true,\"ticks\":\"\",\"zerolinecolor\":\"white\",\"gridwidth\":2},\"yaxis\":{\"backgroundcolor\":\"#E5ECF6\",\"gridcolor\":\"white\",\"linecolor\":\"white\",\"showbackground\":true,\"ticks\":\"\",\"zerolinecolor\":\"white\",\"gridwidth\":2},\"zaxis\":{\"backgroundcolor\":\"#E5ECF6\",\"gridcolor\":\"white\",\"linecolor\":\"white\",\"showbackground\":true,\"ticks\":\"\",\"zerolinecolor\":\"white\",\"gridwidth\":2}},\"shapedefaults\":{\"line\":{\"color\":\"#2a3f5f\"}},\"annotationdefaults\":{\"arrowcolor\":\"#2a3f5f\",\"arrowhead\":0,\"arrowwidth\":1},\"geo\":{\"bgcolor\":\"white\",\"landcolor\":\"#E5ECF6\",\"subunitcolor\":\"white\",\"showland\":true,\"showlakes\":true,\"lakecolor\":\"white\"},\"title\":{\"x\":0.05},\"mapbox\":{\"style\":\"light\"}}},\"title\":{\"text\":\"Promedio Capitalizaci\\u00f3n de Mercado - 2020-2023\"},\"width\":700,\"height\":700},                        {\"responsive\": true}                    ).then(function(){\n",
       "                            \n",
       "var gd = document.getElementById('808c3458-f8a4-41c7-9f15-3976596e8e1e');\n",
       "var x = new MutationObserver(function (mutations, observer) {{\n",
       "        var display = window.getComputedStyle(gd).display;\n",
       "        if (!display || display === 'none') {{\n",
       "            console.log([gd, 'removed!']);\n",
       "            Plotly.purge(gd);\n",
       "            observer.disconnect();\n",
       "        }}\n",
       "}});\n",
       "\n",
       "// Listen for the removal of the full notebook cells\n",
       "var notebookContainer = gd.closest('#notebook-container');\n",
       "if (notebookContainer) {{\n",
       "    x.observe(notebookContainer, {childList: true});\n",
       "}}\n",
       "\n",
       "// Listen for the clearing of the current output cell\n",
       "var outputEl = gd.closest('.output');\n",
       "if (outputEl) {{\n",
       "    x.observe(outputEl, {childList: true});\n",
       "}}\n",
       "\n",
       "                        })                };                });            </script>        </div>"
      ]
     },
     "metadata": {},
     "output_type": "display_data"
    }
   ],
   "source": [
    "# Gráfico Promedio Histórico Capitalización de Mercado 4 Primeras Monedas\n",
    "promedio_historico_btc = df_historico_primeras4_monedas['mercado_cap_btc'].mean()\n",
    "promedio_historico_ethereum = df_historico_primeras4_monedas['mercado_cap_ethereum'].mean()\n",
    "promedio_historico_tether = df_historico_primeras4_monedas['mercado_cap_tether'].mean()\n",
    "promedio_historico_binance = df_historico_primeras4_monedas['mercado_caps_binance'].mean()\n",
    "\n",
    "labels = ['Bitcoin','Ethereum','Tether','Binance']\n",
    "values = [promedio_historico_btc, promedio_historico_ethereum, promedio_historico_tether, promedio_historico_binance]\n",
    "\n",
    "# pull is given as a fraction of the pie radius\n",
    "fig = go.Figure(data=[go.Pie(labels=labels, values=values, pull=[0.2, 0, 0, 0])])\n",
    "fig.update_layout(\n",
    "    title=\"Promedio Capitalización de Mercado - 2020-2023\",\n",
    "    width=700, # ancho en pixeles\n",
    "    height=700, # altura en pixeles\n",
    ")\n",
    "\n",
    "fig.show()"
   ]
  },
  {
   "cell_type": "code",
   "execution_count": null,
   "id": "1cc8841f-4243-44a3-ac3b-f7fabc47098e",
   "metadata": {},
   "outputs": [],
   "source": []
  },
  {
   "cell_type": "code",
   "execution_count": null,
   "id": "302ace93-e149-41c3-8585-e993dd585e93",
   "metadata": {},
   "outputs": [],
   "source": []
  },
  {
   "cell_type": "code",
   "execution_count": null,
   "id": "4f2fd675-1fb7-4846-a2b0-0e09ff44b3da",
   "metadata": {},
   "outputs": [],
   "source": []
  },
  {
   "cell_type": "markdown",
   "id": "009fb729-b44e-41da-9781-b3efc67c5cc8",
   "metadata": {},
   "source": [
    "**Presencia del mercado importante de Bitcoin**"
   ]
  },
  {
   "cell_type": "markdown",
   "id": "15636d90",
   "metadata": {},
   "source": [
    "### Comienzo Análisis Datasets OLHC(Open, Low, High, Close)"
   ]
  },
  {
   "cell_type": "code",
   "execution_count": 29,
   "id": "4fc84b33-26cb-4d83-a0a1-b13afeb4c183",
   "metadata": {
    "tags": []
   },
   "outputs": [
    {
     "data": {
      "text/html": [
       "<div><div id=87c54ddf-5fa8-4b35-84c8-ceb708992908 style=\"display:none; background-color:#9D6CFF; color:white; width:200px; height:30px; padding-left:5px; border-radius:4px; flex-direction:row; justify-content:space-around; align-items:center;\" onmouseover=\"this.style.backgroundColor='#BA9BF8'\" onmouseout=\"this.style.backgroundColor='#9D6CFF'\" onclick=\"window.commands?.execute('create-mitosheet-from-dataframe-output');\">See Full Dataframe in Mito</div> <script> if (window.commands?.hasCommand('create-mitosheet-from-dataframe-output')) document.getElementById('87c54ddf-5fa8-4b35-84c8-ceb708992908').style.display = 'flex' </script> <table border=\"1\" class=\"dataframe\">\n",
       "  <thead>\n",
       "    <tr style=\"text-align: right;\">\n",
       "      <th></th>\n",
       "      <th>fecha</th>\n",
       "      <th>precio_apertura_binance</th>\n",
       "      <th>precio_maximo_binance</th>\n",
       "      <th>precio_minimo_binance</th>\n",
       "      <th>precio_cierre_binance</th>\n",
       "    </tr>\n",
       "  </thead>\n",
       "  <tbody>\n",
       "    <tr>\n",
       "      <th>0</th>\n",
       "      <td>2023-02-26</td>\n",
       "      <td>308.57</td>\n",
       "      <td>308.57</td>\n",
       "      <td>308.57</td>\n",
       "      <td>308.57</td>\n",
       "    </tr>\n",
       "    <tr>\n",
       "      <th>1</th>\n",
       "      <td>2023-02-27</td>\n",
       "      <td>304.56</td>\n",
       "      <td>304.56</td>\n",
       "      <td>299.82</td>\n",
       "      <td>299.82</td>\n",
       "    </tr>\n",
       "    <tr>\n",
       "      <th>2</th>\n",
       "      <td>2023-03-06</td>\n",
       "      <td>290.22</td>\n",
       "      <td>290.22</td>\n",
       "      <td>288.02</td>\n",
       "      <td>288.02</td>\n",
       "    </tr>\n",
       "    <tr>\n",
       "      <th>3</th>\n",
       "      <td>2023-03-10</td>\n",
       "      <td>289.25</td>\n",
       "      <td>289.25</td>\n",
       "      <td>277.03</td>\n",
       "      <td>277.03</td>\n",
       "    </tr>\n",
       "    <tr>\n",
       "      <th>4</th>\n",
       "      <td>2023-03-14</td>\n",
       "      <td>275.74</td>\n",
       "      <td>309.58</td>\n",
       "      <td>275.74</td>\n",
       "      <td>309.58</td>\n",
       "    </tr>\n",
       "  </tbody>\n",
       "</table></div>"
      ],
      "text/plain": [
       "        fecha  precio_apertura_binance  precio_maximo_binance  \\\n",
       "0  2023-02-26                   308.57                 308.57   \n",
       "1  2023-02-27                   304.56                 304.56   \n",
       "2  2023-03-06                   290.22                 290.22   \n",
       "3  2023-03-10                   289.25                 289.25   \n",
       "4  2023-03-14                   275.74                 309.58   \n",
       "\n",
       "   precio_minimo_binance  precio_cierre_binance  \n",
       "0                 308.57                 308.57  \n",
       "1                 299.82                 299.82  \n",
       "2                 288.02                 288.02  \n",
       "3                 277.03                 277.03  \n",
       "4                 275.74                 309.58  "
      ]
     },
     "execution_count": 29,
     "metadata": {},
     "output_type": "execute_result"
    }
   ],
   "source": [
    "df_olhc_btc.head()\n",
    "df_olhc_ethereum.head()\n",
    "df_olhc_tether.head()\n",
    "df_olhc_binance.head()"
   ]
  },
  {
   "cell_type": "code",
   "execution_count": 32,
   "id": "1d8fd723-f289-4509-b708-9b8abe81a2be",
   "metadata": {
    "tags": []
   },
   "outputs": [
    {
     "data": {
      "text/html": [
       "<iframe\n",
       "    scrolling=\"no\"\n",
       "    width=\"100%\"\n",
       "    height=\"545px\"\n",
       "    src=\"iframe_figures/figure_32.html\"\n",
       "    frameborder=\"0\"\n",
       "    allowfullscreen\n",
       "></iframe>\n"
      ]
     },
     "metadata": {},
     "output_type": "display_data"
    }
   ],
   "source": [
    "# Gráfico OLHC(Open, Low, High, Close) para Bitcoin desde Marzo 2023\n",
    "fig = px.line(df_olhc_btc, x='fecha', y=[\"precio_apertura_btc\", \"precio_maximo_btc\", \"precio_minimo_btc\", \"precio_cierre_btc\"], line_shape='linear')\n",
    "fig.update_layout(\n",
    "    title='OLHC de Bitcoin', \n",
    "    xaxis = dict(\n",
    "        showgrid=True\n",
    "    ), \n",
    "    yaxis = dict(\n",
    "        showgrid=True\n",
    "    ),  \n",
    "    paper_bgcolor='#FFFFFF'\n",
    ")\n",
    "fig.update_yaxes(title_text='Precio')\n",
    "fig.show(renderer=\"iframe\")"
   ]
  },
  {
   "cell_type": "markdown",
   "id": "6327c978-8e72-46b9-8b54-247330a9451c",
   "metadata": {},
   "source": [
    "**En general los precios se mantienen cerca entre ellos**  \n",
    "Aunque muestra una disminución general en el precio de Bitcoin a lo largo del período de tiempo,  \n",
    "con algunas fluctuaciones."
   ]
  },
  {
   "cell_type": "code",
   "execution_count": 31,
   "id": "2d3fb35d-5a48-42b7-b561-86ace18a4c07",
   "metadata": {
    "tags": []
   },
   "outputs": [
    {
     "data": {
      "text/html": [
       "<iframe\n",
       "    scrolling=\"no\"\n",
       "    width=\"100%\"\n",
       "    height=\"545px\"\n",
       "    src=\"iframe_figures/figure_31.html\"\n",
       "    frameborder=\"0\"\n",
       "    allowfullscreen\n",
       "></iframe>\n"
      ]
     },
     "metadata": {},
     "output_type": "display_data"
    }
   ],
   "source": [
    "# Gráfico OLHC(Open, Low, High, Close) para Ethereum desde Marzo 2023\n",
    "fig = px.line(df_olhc_ethereum, x='fecha', y=[\"precio_apertura_ethereum\", \"precio_maximo_ethereum\", \"precio_minimo_ethereum\", \"precio_cierre_ethereum\"], line_shape='linear')\n",
    "fig.update_layout(\n",
    "    title='OLHC de Ethereum', \n",
    "    xaxis = dict(\n",
    "        showgrid=True\n",
    "    ), \n",
    "    yaxis = dict(\n",
    "        showgrid=True\n",
    "    ),  \n",
    "    paper_bgcolor='#FFFFFF'\n",
    ")\n",
    "fig.update_yaxes(title_text='Precio')\n",
    "fig.show(renderer=\"iframe\")"
   ]
  },
  {
   "cell_type": "markdown",
   "id": "2b5d9e4f-0737-408d-b445-a2fb41f98b65",
   "metadata": {},
   "source": [
    "**Sucede igual con Ethereum**  \n",
    "Pero mas irregular, mostrando fluctuaciones en el precio a lo largo del tiempo."
   ]
  },
  {
   "cell_type": "code",
   "execution_count": 34,
   "id": "8ddb336e-2ae1-47eb-bdc5-b7f735c04dcb",
   "metadata": {
    "tags": []
   },
   "outputs": [
    {
     "data": {
      "text/html": [
       "<iframe\n",
       "    scrolling=\"no\"\n",
       "    width=\"100%\"\n",
       "    height=\"545px\"\n",
       "    src=\"iframe_figures/figure_34.html\"\n",
       "    frameborder=\"0\"\n",
       "    allowfullscreen\n",
       "></iframe>\n"
      ]
     },
     "metadata": {},
     "output_type": "display_data"
    }
   ],
   "source": [
    "# Gráfico OLHC(Open, Low, High, Close) para Tether desde Marzo 2023\n",
    "fig = px.line(df_olhc_tether, x='fecha', y=[\"precio_apertura_tether\", \"precio_maximo_tether\", \"precio_minimo_tether\", \"precio_cierre_tether\"], line_shape='linear')\n",
    "fig.update_layout(\n",
    "    title='OLHC de Tether', \n",
    "    xaxis = dict(\n",
    "        showgrid=True\n",
    "    ), \n",
    "    yaxis = dict(\n",
    "        showgrid=True\n",
    "    ),  \n",
    "    paper_bgcolor='#FFFFFF'\n",
    ")\n",
    "fig.update_yaxes(title_text='Precio')\n",
    "fig.show(renderer=\"iframe\")"
   ]
  },
  {
   "cell_type": "markdown",
   "id": "335d0a48-c48f-4da4-9120-fbc2ba86d712",
   "metadata": {},
   "source": [
    "**Comienzo del año a la alza**  \n",
    "Para luego estabilizarse, se observa irregular pero dentro de un rango"
   ]
  },
  {
   "cell_type": "code",
   "execution_count": 35,
   "id": "ce603a6a-7f6c-47f6-899b-2282a20d4883",
   "metadata": {
    "tags": []
   },
   "outputs": [
    {
     "data": {
      "text/html": [
       "<iframe\n",
       "    scrolling=\"no\"\n",
       "    width=\"100%\"\n",
       "    height=\"545px\"\n",
       "    src=\"iframe_figures/figure_35.html\"\n",
       "    frameborder=\"0\"\n",
       "    allowfullscreen\n",
       "></iframe>\n"
      ]
     },
     "metadata": {},
     "output_type": "display_data"
    }
   ],
   "source": [
    "# Gráfico OLHC(Open, Low, High, Close) para Binance desde Marzo 2023\n",
    "fig = px.line(df_olhc_binance, x='fecha', y=['precio_apertura_binance', 'precio_cierre_binance', 'precio_maximo_binance', 'precio_minimo_binance'], line_shape='linear')\n",
    "fig.update_layout(\n",
    "    title='OLHC de Binance', \n",
    "    xaxis = dict(\n",
    "        showgrid=True\n",
    "    ), \n",
    "    yaxis = dict(\n",
    "        showgrid=True\n",
    "    ),  \n",
    "    paper_bgcolor='#FFFFFF'\n",
    ")\n",
    "fig.update_yaxes(title_text='Precio')\n",
    "fig.show(renderer=\"iframe\")"
   ]
  },
  {
   "cell_type": "markdown",
   "id": "e014f4c0-d88c-43f0-b7c0-710fb30ca20a",
   "metadata": {},
   "source": [
    "**Muy Irregular**\n",
    "Irregular, tendencia a la baja, no siguen un patrón."
   ]
  },
  {
   "cell_type": "markdown",
   "id": "a8d0b6e3-bac1-4b42-bd96-29c7f379ece5",
   "metadata": {},
   "source": []
  }
 ],
 "metadata": {
  "kernelspec": {
   "display_name": "Python 3 (ipykernel)",
   "language": "python",
   "name": "python3"
  },
  "language_info": {
   "codemirror_mode": {
    "name": "ipython",
    "version": 3
   },
   "file_extension": ".py",
   "mimetype": "text/x-python",
   "name": "python",
   "nbconvert_exporter": "python",
   "pygments_lexer": "ipython3",
   "version": "3.10.9"
  }
 },
 "nbformat": 4,
 "nbformat_minor": 5
}
